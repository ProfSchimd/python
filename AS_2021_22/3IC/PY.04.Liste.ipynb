{
 "cells": [
  {
   "cell_type": "markdown",
   "id": "1e651177-88db-4f8d-9fc7-5e39ea47f8d6",
   "metadata": {},
   "source": [
    "# Strutture dati: liste e dizionari\n",
    "\n",
    "Cominciao con il dire che in Python non esistono gli array simili a Java e C++, si usano le **liste** (o librerie com `numpy`)\n",
    "\n",
    "## Creare liste\n",
    "Le liste sono indicate con le quader `[ ]`, per creare una *lista vuota* bastano le quadre come sotto"
   ]
  },
  {
   "cell_type": "code",
   "execution_count": 1,
   "id": "e7e57ef1-a429-4b69-a0b5-196643a6ca22",
   "metadata": {},
   "outputs": [
    {
     "name": "stdout",
     "output_type": "stream",
     "text": [
      "[]\n"
     ]
    }
   ],
   "source": [
    "listaVuota = []\n",
    "print(listaVuota)"
   ]
  },
  {
   "cell_type": "markdown",
   "id": "b8bdefab-72e0-4ee4-8ca5-b316b14461af",
   "metadata": {},
   "source": [
    "Per indicare il contenuto della lista, si elencano, all'interno delle quadre, i suoi oggetti disvisi da virgole"
   ]
  },
  {
   "cell_type": "code",
   "execution_count": 2,
   "id": "a2ea7ea1-0178-4f60-8cce-54259965d3bc",
   "metadata": {},
   "outputs": [
    {
     "name": "stdout",
     "output_type": "stream",
     "text": [
      "[1, '2', 5.0]\n"
     ]
    }
   ],
   "source": [
    "lista1 = [1, \"2\", 5.0]\n",
    "print(lista1)"
   ]
  },
  {
   "cell_type": "markdown",
   "id": "1bbbf714-f331-498a-82f6-df488c2384c8",
   "metadata": {},
   "source": [
    "Si possono creare anche list di numeri o di altri oggetti utilizzando altre funzioni, qui si vede l'uso di `range` per creare una lista dei numeri da 1 a 100."
   ]
  },
  {
   "cell_type": "code",
   "execution_count": 3,
   "id": "82ac1127-f733-48af-9866-97c5a8d8bf56",
   "metadata": {},
   "outputs": [
    {
     "name": "stdout",
     "output_type": "stream",
     "text": [
      "[0, 1, 2, 3, 4, 5, 6, 7, 8, 9, 10, 11, 12, 13, 14, 15, 16, 17, 18, 19, 20, 21, 22, 23, 24, 25, 26, 27, 28, 29, 30, 31, 32, 33, 34, 35, 36, 37, 38, 39, 40, 41, 42, 43, 44, 45, 46, 47, 48, 49, 50, 51, 52, 53, 54, 55, 56, 57, 58, 59, 60, 61, 62, 63, 64, 65, 66, 67, 68, 69, 70, 71, 72, 73, 74, 75, 76, 77, 78, 79, 80, 81, 82, 83, 84, 85, 86, 87, 88, 89, 90, 91, 92, 93, 94, 95, 96, 97, 98, 99]\n"
     ]
    }
   ],
   "source": [
    "da0a99 = list(range(100))\n",
    "print(da0a99)"
   ]
  },
  {
   "cell_type": "markdown",
   "id": "5452e88a-0212-404e-aa87-9838a3ba70a3",
   "metadata": {},
   "source": [
    "Per accedere ad un elemento si usa la sintassi con le quadre come per gli array Java. Ad esempio il primo elemento si indica con `nomeDellaLista[0]`"
   ]
  },
  {
   "cell_type": "code",
   "execution_count": 4,
   "id": "695fb2ec-d4a5-4b8e-8e4e-26240acbb906",
   "metadata": {},
   "outputs": [
    {
     "name": "stdout",
     "output_type": "stream",
     "text": [
      "['Zero', 1, 2, 3, 4, 5, 6, 7, 8, 9, 10, 11, 12, 13, 14, 15, 16, 17, 18, 19, 20, 21, 22, 23, 24, 25, 26, 27, 28, 29, 30, 31, 32, 33, 34, 35, 36, 37, 38, 39, 40, 41, 42, 43, 44, 45, 46, 47, 48, 49, 50, 51, 52, 53, 54, 55, 56, 57, 58, 59, 60, 61, 62, 63, 64, 65, 66, 67, 68, 69, 70, 71, 72, 73, 74, 75, 76, 77, 78, 79, 80, 81, 82, 83, 84, 85, 86, 87, 88, 89, 90, 91, 92, 93, 94, 95, 96, 97, 98, 99]\n",
      "Zero 1\n"
     ]
    }
   ],
   "source": [
    "da0a99[0] = \"Zero\"\n",
    "print(da0a99)\n",
    "print(da0a99[0], da0a99[1])"
   ]
  },
  {
   "cell_type": "markdown",
   "id": "c90d7d3f-9ae7-46c3-9c1f-3e6bb9fdcf19",
   "metadata": {},
   "source": [
    "**Attenzione** Prima dell'istruzione `da0a00[0] = \"Zero\"` tutte gli elementi della lista erano interi, dopo questa istruzione l'elemento in posizione `0` è una stringa e gli altri, che non sono stati modificati, rimangono interi.\n",
    "\n",
    "Per la lunghezza della lista si usa la funzione `len`"
   ]
  },
  {
   "cell_type": "code",
   "execution_count": 5,
   "id": "6545d19b-29c9-4f55-a21a-5dcff1a42227",
   "metadata": {},
   "outputs": [
    {
     "name": "stdout",
     "output_type": "stream",
     "text": [
      "La lista ha 100 elementi\n"
     ]
    }
   ],
   "source": [
    "print(\"La lista ha \" + str(len(da0a99)) + \" elementi\")"
   ]
  },
  {
   "cell_type": "markdown",
   "id": "6a4e07ae-26b6-486a-af1a-32abe1cec077",
   "metadata": {},
   "source": [
    "### Indicizzazione\n",
    "L'indicizzazione delle liste parte da `0` e arriva fino a `len(lista)-1` (come per gli array in Java). In Python esistono gli indici negativi che indicano il primo, secondo, ... dalla fine"
   ]
  },
  {
   "cell_type": "code",
   "execution_count": 6,
   "id": "cc41ea54-58f0-4e33-ad1d-00562ca3c56b",
   "metadata": {},
   "outputs": [
    {
     "name": "stdout",
     "output_type": "stream",
     "text": [
      "99\n",
      "99\n"
     ]
    }
   ],
   "source": [
    "print(da0a99[len(da0a99)-1]) # ultimo\n",
    "print(da0a99[-1]) # primo dalla fine (cioè l'ultimo)"
   ]
  },
  {
   "cell_type": "markdown",
   "id": "a7819806-2763-4bdf-b37a-ae35e3fc4468",
   "metadata": {},
   "source": [
    "In Python si possono \"affettare\" (*slice*) le liste in utilizzando una sintassi basata su tre elementi\n",
    "\n",
    "* `inizio` indica da dove far partire la sottolista\n",
    "* `fine` indica dove finire la sottolista\n",
    "* `passo` indica come scorrere gli elemeneti (tutti, uno si e uno no, uno si e due no, ...)\n",
    "\n",
    "Questi elementi si combinano nella sintassi `lista[inizio:fine:passo]` vediamo alcuni esempi:"
   ]
  },
  {
   "cell_type": "code",
   "execution_count": 7,
   "id": "0836c47f-91e8-4a5d-97fd-0ae3d4ec584e",
   "metadata": {},
   "outputs": [
    {
     "name": "stdout",
     "output_type": "stream",
     "text": [
      "['Zero', 1, 2, 3, 4, 5, 6, 7, 8]\n",
      "['Zero', 1, 2, 3, 4, 5, 6, 7, 8]\n",
      "[1, 2, 3, 4, 5, 6, 7, 8]\n",
      "['Zero', 2, 4, 6, 8, 10, 12, 14, 16, 18, 20, 22, 24, 26, 28, 30, 32, 34, 36, 38, 40, 42, 44, 46, 48]\n"
     ]
    }
   ],
   "source": [
    "print(da0a99[0:9]) # da 0 (inizio) a 9 (escluso)\n",
    "print(da0a99[:9]) # uguale a sopra, lo zero lo posso sottointendere\n",
    "print(da0a99[1:9]) # dal secondo a 9 (escluso)\n",
    "print(da0a99[0:50:2]) # i primi 50, ma uno si e uno no"
   ]
  },
  {
   "cell_type": "markdown",
   "id": "4c9563b4-c7b8-4ed8-9b14-0a4cc6af323e",
   "metadata": {},
   "source": [
    "Attenzione che lo slicing `[::]` restitusice mentre l'indicizzazione `[]` elementi"
   ]
  },
  {
   "cell_type": "code",
   "execution_count": 8,
   "id": "48333cd6-1515-46c3-8873-359491523caa",
   "metadata": {},
   "outputs": [
    {
     "name": "stdout",
     "output_type": "stream",
     "text": [
      "Zero ['Zero']\n"
     ]
    }
   ],
   "source": [
    "print(da0a99[0], da0a99[0:1])"
   ]
  },
  {
   "cell_type": "markdown",
   "id": "be71fc29-3b95-47c0-80fb-31cfbbab678b",
   "metadata": {},
   "source": [
    "Lo slicing può essere usato con gli indici negativi. Di seguito invertiamo la lista partendo dalla fine (`inizio=-1`), continuando fino a che è possibile (`fine` omesso) e andando indietro di uno alla volta (`passo=-1`)"
   ]
  },
  {
   "cell_type": "code",
   "execution_count": 9,
   "id": "8ae6e281-47cb-465e-8279-3fc82b11bb9a",
   "metadata": {},
   "outputs": [
    {
     "name": "stdout",
     "output_type": "stream",
     "text": [
      "[99, 98, 97, 96, 95, 94, 93, 92, 91, 90, 89, 88, 87, 86, 85, 84, 83, 82, 81, 80, 79, 78, 77, 76, 75, 74, 73, 72, 71, 70, 69, 68, 67, 66, 65, 64, 63, 62, 61, 60, 59, 58, 57, 56, 55, 54, 53, 52, 51, 50, 49, 48, 47, 46, 45, 44, 43, 42, 41, 40, 39, 38, 37, 36, 35, 34, 33, 32, 31, 30, 29, 28, 27, 26, 25, 24, 23, 22, 21, 20, 19, 18, 17, 16, 15, 14, 13, 12, 11, 10, 9, 8, 7, 6, 5, 4, 3, 2, 1, 'Zero']\n"
     ]
    }
   ],
   "source": [
    "print(da0a99[-1::-1])"
   ]
  },
  {
   "cell_type": "markdown",
   "id": "57af530f-4cf9-4a33-bc84-9bd931d72384",
   "metadata": {},
   "source": [
    "Ci sono anche diversi modi per idicare la stessa sottolista, qui vediamo 3 modi per indicare tutta la lista"
   ]
  },
  {
   "cell_type": "code",
   "execution_count": 10,
   "id": "b93e547f-87eb-4b63-a498-bc2b1fad6b57",
   "metadata": {},
   "outputs": [
    {
     "name": "stdout",
     "output_type": "stream",
     "text": [
      "['Zero', 1, 2, 3, 4, 5, 6, 7, 8, 9, 10, 11, 12, 13, 14, 15, 16, 17, 18, 19, 20, 21, 22, 23, 24, 25, 26, 27, 28, 29, 30, 31, 32, 33, 34, 35, 36, 37, 38, 39, 40, 41, 42, 43, 44, 45, 46, 47, 48, 49, 50, 51, 52, 53, 54, 55, 56, 57, 58, 59, 60, 61, 62, 63, 64, 65, 66, 67, 68, 69, 70, 71, 72, 73, 74, 75, 76, 77, 78, 79, 80, 81, 82, 83, 84, 85, 86, 87, 88, 89, 90, 91, 92, 93, 94, 95, 96, 97, 98, 99]\n",
      "['Zero', 1, 2, 3, 4, 5, 6, 7, 8, 9, 10, 11, 12, 13, 14, 15, 16, 17, 18, 19, 20, 21, 22, 23, 24, 25, 26, 27, 28, 29, 30, 31, 32, 33, 34, 35, 36, 37, 38, 39, 40, 41, 42, 43, 44, 45, 46, 47, 48, 49, 50, 51, 52, 53, 54, 55, 56, 57, 58, 59, 60, 61, 62, 63, 64, 65, 66, 67, 68, 69, 70, 71, 72, 73, 74, 75, 76, 77, 78, 79, 80, 81, 82, 83, 84, 85, 86, 87, 88, 89, 90, 91, 92, 93, 94, 95, 96, 97, 98, 99]\n",
      "['Zero', 1, 2, 3, 4, 5, 6, 7, 8, 9, 10, 11, 12, 13, 14, 15, 16, 17, 18, 19, 20, 21, 22, 23, 24, 25, 26, 27, 28, 29, 30, 31, 32, 33, 34, 35, 36, 37, 38, 39, 40, 41, 42, 43, 44, 45, 46, 47, 48, 49, 50, 51, 52, 53, 54, 55, 56, 57, 58, 59, 60, 61, 62, 63, 64, 65, 66, 67, 68, 69, 70, 71, 72, 73, 74, 75, 76, 77, 78, 79, 80, 81, 82, 83, 84, 85, 86, 87, 88, 89, 90, 91, 92, 93, 94, 95, 96, 97, 98, 99]\n"
     ]
    }
   ],
   "source": [
    "print(da0a99[0:100])\n",
    "print(da0a99[:100])\n",
    "print(da0a99[:])"
   ]
  },
  {
   "cell_type": "code",
   "execution_count": 11,
   "id": "673788a1-c52c-469e-8ed1-1f5272551545",
   "metadata": {},
   "outputs": [
    {
     "name": "stdout",
     "output_type": "stream",
     "text": [
      "[98]\n"
     ]
    }
   ],
   "source": [
    "print(da0a99[-2::2])"
   ]
  },
  {
   "cell_type": "code",
   "execution_count": 12,
   "id": "9b76ef9b-1d49-47b9-9eae-d8b8d3c9eeda",
   "metadata": {},
   "outputs": [
    {
     "data": {
      "text/plain": [
       "True"
      ]
     },
     "execution_count": 12,
     "metadata": {},
     "output_type": "execute_result"
    }
   ],
   "source": [
    "da0a99[-1] == da0a99[len(da0a99)-1]"
   ]
  },
  {
   "cell_type": "code",
   "execution_count": 13,
   "id": "d16f8263-4148-4dd6-b0fa-8f4056e8c46f",
   "metadata": {},
   "outputs": [
    {
     "data": {
      "text/plain": [
       "['Zero', 7, 14, 21, 28, 35, 42, 49, 56, 63, 70, 77, 84, 91, 98]"
      ]
     },
     "execution_count": 13,
     "metadata": {},
     "output_type": "execute_result"
    }
   ],
   "source": [
    "da0a99[::7]"
   ]
  },
  {
   "cell_type": "markdown",
   "id": "03efd932-0392-46e8-8f14-fe2fb2ff8a7e",
   "metadata": {},
   "source": [
    "## Iterare sulle liste"
   ]
  },
  {
   "cell_type": "code",
   "execution_count": 14,
   "id": "91a9cf82-6ce3-4dc9-85ea-55fc4173b654",
   "metadata": {},
   "outputs": [
    {
     "name": "stdout",
     "output_type": "stream",
     "text": [
      "Ciao\n",
      "1\n",
      "True\n"
     ]
    }
   ],
   "source": [
    "for i in [\"Ciao\", 1, True]:\n",
    "    print(i)"
   ]
  }
 ],
 "metadata": {
  "kernelspec": {
   "display_name": "Python 3 (ipykernel)",
   "language": "python",
   "name": "python3"
  },
  "language_info": {
   "codemirror_mode": {
    "name": "ipython",
    "version": 3
   },
   "file_extension": ".py",
   "mimetype": "text/x-python",
   "name": "python",
   "nbconvert_exporter": "python",
   "pygments_lexer": "ipython3",
   "version": "3.10.1"
  }
 },
 "nbformat": 4,
 "nbformat_minor": 5
}
