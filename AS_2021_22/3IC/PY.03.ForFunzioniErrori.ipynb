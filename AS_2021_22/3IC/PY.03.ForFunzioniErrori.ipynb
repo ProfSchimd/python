{
 "cells": [
  {
   "cell_type": "markdown",
   "id": "0081ce23-142b-4b37-b70f-9294b3737285",
   "metadata": {
    "id": "0081ce23-142b-4b37-b70f-9294b3737285"
   },
   "source": [
    "# Python - Lezione 3: `for` e eccezioni\n",
    "In questa lezione vediamo come:\n",
    "\n",
    "* Utilizzare il ciclo `for`,\n",
    "* definire funzioni con e senza parametri e con e senza valore di ritorno,\n",
    "* gestire le eccezioni.\n",
    "\n",
    "## Numeri casuali\n",
    "Per generare numeri casuali in Python si usa il modulo `random` che va importato. Questo modulo contiene diverse funzioni tra cui le più interessanti sonp\n",
    "\n",
    "* `random.random()` che produce un numero casuale con la virgola compreso tra `0` e `1`\n",
    "* `random.randint(a,b)` che produce un numero intero casuale tra `a` e `b` **estremi inclusi**"
   ]
  },
  {
   "cell_type": "code",
   "execution_count": 1,
   "id": "RvY1KoDilV9f",
   "metadata": {
    "id": "RvY1KoDilV9f"
   },
   "outputs": [
    {
     "name": "stdout",
     "output_type": "stream",
     "text": [
      "0.728853538877313\n",
      "4\n"
     ]
    }
   ],
   "source": [
    "import random\n",
    "print(random.random()) # numero con la virgola tra 0 e 1\n",
    "print(random.randint(0,9)) # cifra casuale tra 0 e 9"
   ]
  },
  {
   "cell_type": "markdown",
   "id": "085a633d-c6f5-4045-9991-2ac9132a0d86",
   "metadata": {
    "id": "085a633d-c6f5-4045-9991-2ac9132a0d86"
   },
   "source": [
    "## `for`\n",
    "\n",
    "In Python il `for` è solo il costrutto *for each*: cioè si itera su tutti gli elementi di una **collezione iterabile**.\n",
    "\n",
    "Nel primo esempio generiamo 5 cifre decimali casuali e le stampiamo a video. Per fare questo usiamo la funzione `range(m)` che crea un *iterabile* contenente i numeri da `0` a `m-1` (attenzione al `-1`)."
   ]
  },
  {
   "cell_type": "code",
   "execution_count": 2,
   "id": "1104b69a-525b-43bd-8843-004dd11d56a2",
   "metadata": {},
   "outputs": [
    {
     "name": "stdout",
     "output_type": "stream",
     "text": [
      "0 -> 5\n",
      "1 -> 5\n",
      "2 -> 5\n",
      "3 -> 6\n",
      "4 -> 1\n"
     ]
    }
   ],
   "source": [
    "for i in range(5): \n",
    "    print(str(i) + \" -> \" + str(random.randint(0,9)))"
   ]
  },
  {
   "cell_type": "markdown",
   "id": "8ce7867d-ce21-4aeb-af4d-1a30821e3471",
   "metadata": {},
   "source": [
    "Nel secondo esempio usiamo una variabile `livello` al posto del `5` (così, se necessario, il valore di `livello` lo possiamo impostare *run-time*)."
   ]
  },
  {
   "cell_type": "code",
   "execution_count": 3,
   "id": "9027a6b9-fa32-4931-9a10-8919541d59d5",
   "metadata": {},
   "outputs": [
    {
     "name": "stdout",
     "output_type": "stream",
     "text": [
      "0 -> 3\n",
      "1 -> 9\n",
      "2 -> 6\n",
      "3 -> 8\n",
      "4 -> 1\n"
     ]
    }
   ],
   "source": [
    "livello = 5\n",
    "for i in range(livello): \n",
    "    print(str(i) + \" -> \" + str(random.randint(0,9)))"
   ]
  },
  {
   "cell_type": "markdown",
   "id": "e1d3a192-994e-4e27-a490-2add6706e5e5",
   "metadata": {},
   "source": [
    "È importante notare che l'iterabile usato nel *for each* non deve sempre contenere numeri interi. Nell'esempio sotto vediamo come iterare su stringhe."
   ]
  },
  {
   "cell_type": "code",
   "execution_count": 4,
   "id": "3364026f-bae9-4e3e-b436-2ef50686e25e",
   "metadata": {},
   "outputs": [
    {
     "name": "stdout",
     "output_type": "stream",
     "text": [
      "Tizio\n",
      "Caio\n",
      "Antony\n"
     ]
    }
   ],
   "source": [
    "nomi = [\"Tizio\", \"Caio\", \"Antony\"]\n",
    "for i in nomi:\n",
    "    print(i)"
   ]
  },
  {
   "cell_type": "markdown",
   "id": "6fa8b3e5-35e6-4c44-90da-1eb0e62d8b66",
   "metadata": {},
   "source": [
    "Programmatori sono spesso abituati al classico `for(int i = 0; i < n; i++) { ... }` di Java e C++. In Python non esiste questo costrutto e si deve cercare di usare al meglio il for-each (come mostrato sopra). Tuttavia è possibile \"emulare\" il `for` \"classico\" come nel seguente esempio che produce lo stesso output del codice sopra."
   ]
  },
  {
   "cell_type": "code",
   "execution_count": 5,
   "id": "7a9325b9-2a45-4c80-92fe-ec87b60596b2",
   "metadata": {},
   "outputs": [
    {
     "name": "stdout",
     "output_type": "stream",
     "text": [
      "\n",
      "Tizio\n",
      "Caio\n",
      "Antony\n"
     ]
    }
   ],
   "source": [
    "print()\n",
    "for i in range(len(nomi)):\n",
    "    print(nomi[i])"
   ]
  },
  {
   "cell_type": "markdown",
   "id": "666deecf-d2a2-479b-955e-bb273ae919dc",
   "metadata": {
    "id": "666deecf-d2a2-479b-955e-bb273ae919dc"
   },
   "source": [
    "## Eccezioni\n",
    "L'eccezioni sono il meccanismo usato da Python per la gestione di errori e di situazioni \"eccezionali\". L'esempio sotto mostra cosa accade quando si cerca di convertire in `int` una stringa che non rappresenta un numero."
   ]
  },
  {
   "cell_type": "code",
   "execution_count": 6,
   "id": "4e56d186-82cd-4d8f-9a67-26d4eab1f26c",
   "metadata": {},
   "outputs": [
    {
     "ename": "ValueError",
     "evalue": "invalid literal for int() with base 10: '2a'",
     "output_type": "error",
     "traceback": [
      "\u001b[0;31m---------------------------------------------------------------------------\u001b[0m",
      "\u001b[0;31mValueError\u001b[0m                                Traceback (most recent call last)",
      "\u001b[0;32m/tmp/ipykernel_34/454222452.py\u001b[0m in \u001b[0;36m<module>\u001b[0;34m\u001b[0m\n\u001b[1;32m      1\u001b[0m \u001b[0ms\u001b[0m \u001b[0;34m=\u001b[0m \u001b[0;34m\"2a\"\u001b[0m\u001b[0;34m\u001b[0m\u001b[0;34m\u001b[0m\u001b[0m\n\u001b[0;32m----> 2\u001b[0;31m \u001b[0mnumero\u001b[0m \u001b[0;34m=\u001b[0m \u001b[0mint\u001b[0m\u001b[0;34m(\u001b[0m\u001b[0ms\u001b[0m\u001b[0;34m)\u001b[0m\u001b[0;34m\u001b[0m\u001b[0;34m\u001b[0m\u001b[0m\n\u001b[0m",
      "\u001b[0;31mValueError\u001b[0m: invalid literal for int() with base 10: '2a'"
     ]
    }
   ],
   "source": [
    "s = \"2a\"\n",
    "numero = int(s)"
   ]
  },
  {
   "cell_type": "markdown",
   "id": "432fca52-6676-4d34-8f0e-32965f4856c8",
   "metadata": {},
   "source": [
    "Come si vede viene generata un'eccezione `ValueError`. Per gestire questa situazione si usa la combinazione di `try` e `except` (attenzione, a differenza di Java si usa la parola `except` anziché `catch`)"
   ]
  },
  {
   "cell_type": "code",
   "execution_count": 7,
   "id": "eb2d49dd-d49e-4e99-9e52-85e2edfea613",
   "metadata": {
    "colab": {
     "base_uri": "https://localhost:8080/"
    },
    "executionInfo": {
     "elapsed": 3,
     "status": "ok",
     "timestamp": 1652431500034,
     "user": {
      "displayName": "Michele Schimd",
      "userId": "10695220171972702227"
     },
     "user_tz": -120
    },
    "id": "eb2d49dd-d49e-4e99-9e52-85e2edfea613",
    "outputId": "11649eb4-55e0-42e9-dbd6-44a5b5d75821"
   },
   "outputs": [
    {
     "name": "stdout",
     "output_type": "stream",
     "text": [
      "Problem with converting 10s to a number\n"
     ]
    }
   ],
   "source": [
    "s = \"10s\"\n",
    "try:\n",
    "    i = int(s)\n",
    "    print(i)\n",
    "except:\n",
    "    print(\"Problem with converting \" + s + \" to a number\")"
   ]
  },
  {
   "cell_type": "markdown",
   "id": "e460fe78-5857-43a3-8ca8-e05ea5538201",
   "metadata": {
    "id": "e460fe78-5857-43a3-8ca8-e05ea5538201",
    "tags": []
   },
   "source": [
    "## Funzioni\n",
    "Per definire una funzione in Python, come per le variabili, non è necessario indicare né il tipo degli argomenti (se presenti), né il tipo di valore di output (se presente). Una funzione si indica con la parola chiave `def` seguita dal nome e dai paramtri, successivamente si inserisce il carattere `:` al termine del quale si procede a definire il corpo (le istruzioni) **indentando a destra il codice**. Per ritornare un valore, si usa la parola chiave `return` come in altri linguaggi.\n",
    "\n",
    "Vediamo l'esempio di una semplice funzione per la somma."
   ]
  },
  {
   "cell_type": "code",
   "execution_count": 8,
   "id": "dc32662f-666e-4211-a400-022f760ea61b",
   "metadata": {
    "id": "dc32662f-666e-4211-a400-022f760ea61b"
   },
   "outputs": [],
   "source": [
    "def somma(a, b):\n",
    "    return a + b"
   ]
  },
  {
   "cell_type": "markdown",
   "id": "f7d7034b-b4d3-493f-b815-8c454730329a",
   "metadata": {},
   "source": [
    "Come si vede il codice è molto semplice, ma c'è un'insidia nascosta in questa semplicità."
   ]
  },
  {
   "cell_type": "code",
   "execution_count": 9,
   "id": "67d48671-4d3d-4732-992b-e6fd3e24a88f",
   "metadata": {},
   "outputs": [
    {
     "name": "stdout",
     "output_type": "stream",
     "text": [
      "3\n",
      "1.6\n",
      "12\n"
     ]
    }
   ],
   "source": [
    "print(somma(1, 2))\n",
    "print(somma(0.5, 1.1))\n",
    "print(somma(\"1\", \"2\")) # !!!"
   ]
  },
  {
   "cell_type": "markdown",
   "id": "b71797d6-e3f6-4527-9f9d-c704e4e9349e",
   "metadata": {},
   "source": [
    "Come si vede quando `somma` viene chiamato con stringhe Python non genera errore ma correttamente prende le due stringhe, le concatena e restituisce il risultato.\n",
    "\n",
    "Python permette di \"suggerire\" al programmatore qauli tipi usare per parametri e cosa la funziona dovrebbe restituire."
   ]
  },
  {
   "cell_type": "code",
   "execution_count": 10,
   "id": "94030ac5-70ec-413d-a792-6ecd82402783",
   "metadata": {},
   "outputs": [],
   "source": [
    "def somma(a: int, b: int) -> int:\n",
    "    return a + b"
   ]
  },
  {
   "cell_type": "markdown",
   "id": "058cc55b-f505-40a6-9b04-0dd6c6eaa2f2",
   "metadata": {},
   "source": [
    "Tuttavia..."
   ]
  },
  {
   "cell_type": "code",
   "execution_count": 11,
   "id": "28fc3509-1d6d-4ac4-9893-6a39f45119a8",
   "metadata": {},
   "outputs": [
    {
     "name": "stdout",
     "output_type": "stream",
     "text": [
      "3\n",
      "1.6\n",
      "12\n"
     ]
    }
   ],
   "source": [
    "print(somma(1, 2))\n",
    "print(somma(0.5, 1.1))\n",
    "print(somma(\"1\", \"2\")) # !!!"
   ]
  },
  {
   "cell_type": "markdown",
   "id": "70d07a31-21b6-4747-a6a5-7da7a6123bed",
   "metadata": {},
   "source": [
    "Come si vede Python ha ignorato le nostre indicazione e si comporta esattamente come se queste non ci fossero."
   ]
  }
 ],
 "metadata": {
  "colab": {
   "collapsed_sections": [],
   "name": "PY.03.ForFunzioniErrori.ipynb",
   "provenance": [
    {
     "file_id": "https://github.com/ProfSchimd/python/blob/main/AS_2021_22/3IC/PY.02.CondizioneCicli.ipynb",
     "timestamp": 1652430946538
    }
   ]
  },
  "kernelspec": {
   "display_name": "Python 3 (ipykernel)",
   "language": "python",
   "name": "python3"
  },
  "language_info": {
   "codemirror_mode": {
    "name": "ipython",
    "version": 3
   },
   "file_extension": ".py",
   "mimetype": "text/x-python",
   "name": "python",
   "nbconvert_exporter": "python",
   "pygments_lexer": "ipython3",
   "version": "3.10.1"
  }
 },
 "nbformat": 4,
 "nbformat_minor": 5
}
