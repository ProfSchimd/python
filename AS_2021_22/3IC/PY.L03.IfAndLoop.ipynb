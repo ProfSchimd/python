{
 "cells": [
  {
   "cell_type": "markdown",
   "id": "8c593deb-4d39-4422-8db1-9fd45b43bf8a",
   "metadata": {},
   "source": [
    "# Laboratorio 3: Condizione e cicli\n",
    "Creiamo un gioco **Gueass a Number** il cui scopo è indovianare, nel minor numero di tentativi, un numero generato casualmente. Il gioco permette di scegliere:\n",
    "* il livello di difficoltà (quante cifre ha il numero da indovinare) ed\n",
    "* il nickname del giocatore.\n",
    "Il gioco tiene traccia di tutte le partite giocate in modo da avere la classifica dei vari giocatori: dal più \"veloce\" (meno tentativ) al più \"lento\" (più tentativi) nell'indovinare il numero.\n",
    "\n",
    "## Parte 1: Benvenuto\n",
    "\n",
    "Scrivere un programma Python che esegua le seguenti operazioni.\n",
    "1. Stampa un messaggio di benvenuto `Welcome to ...` inserendo al posto dei puntini una string che rappresenta il nome del gioco. Questa string deve essere memorizzata in una variabile da usare per la stampa a video.\n",
    "2. Successivamente al messaggio di benvenuto, il programma chiede all'utente di inserire dalla tastiera il proprio `nickname` che viene memorizzato in una variabile. **Attenzione** Il giocatore deve capire che cosa il programma si aspetta in input!\n",
    "3. Dopo aver memorizzato il `nickname` il gioco stampa una stringa di saluto che include il nicknome appena inserito.\n",
    "4. **Opzionale** Si può decidere di \"abbellire\" l'output usando delle *ASCII art* (senza però esagerare)\n",
    "\n",
    "Di seguito viene riportato un esempio del programma richiesto\n",
    "\n",
    "```\n",
    "+---------------------------+\n",
    "| Welcome to Guess a Nunber |\n",
    "+---------------------------+\n",
    "\n",
    "   Please, type your nickename: DaKing\n",
    "\n",
    "Hi DaKing! Let's play together\n",
    "```"
   ]
  },
  {
   "cell_type": "markdown",
   "id": "1e807a25-96c1-41e1-86b1-8139c365df31",
   "metadata": {},
   "source": [
    "## Parte 2: Impostazioni di gioco\n",
    "\n",
    "Il gioco prevede diversi livelli di difficoltà da 1 a 5, all'inizio della partita il giocatore deve impostare il livello desiderato.\n",
    "\n",
    "Aggiungere al programma Python il codice per eseguire le seguenti operazioni.\n",
    "1. Chiede al giocatore (prima dell'inizio della partita) quale `livello di difficoltà` vuole impostare. Questo livello deve essere **un numero intero tra 1 e 5** ottenuto dalla tastiera. L'istruzione `int(s)` converte la stringa `s` in un intero, generando un errore se questa conversione non va a buon fine.\n",
    "2. Imposta il `livello di difficoltà` selezionato e mostra un messaggio che comunica al giocatore quale livello di difficoltà è stato selezionato.\n",
    "3. Genera un **numero intero casuale con tante cifre qanto è il livello di difficoltà**. Ad esempio se livello è 1, il numero sarà scelto a casa tra `0` e `9`, se il livello è 2, tra `10` e `99` e così via. Attenzione a **non mostrare il numer generato al giocatore** (questo è proprio il numero da indovinare).\n",
    "4. Il programma deve gestire correttamente il caso in cui l'input del giocatore non sia un numero oppure sia un numero diverso da 1,2,...,5. (`int(s)` genera un eccezione se `s` non è un numero (vedi esempio sotto).\n",
    "5. **Opzionale** Per indicare il livello di difficoltà, si può usare una stringa: `1 -> Pivello`, `2 -> Principiante`, ... , `5 -> Gran maestro`. Un suggerimento per fare in modo semplice questo è creare una `list` con 5 stringhe ed usare livello di difficoltà per scegliere la stringa associata.\n",
    "\n",
    "L'output di questa parte sarà simile ha quello mostrato sotto.\n",
    "```\n",
    "   Seleziona il livello di difficoltà per 'DaKing': 1\n",
    "   Livello selezionato: Pivello\n",
    "```"
   ]
  },
  {
   "cell_type": "markdown",
   "id": "6e484145-7d16-46ce-b551-16aedd8cae55",
   "metadata": {},
   "source": [
    "## Parte 3: Loop di gioco\n",
    "Questa parte comprende il codice per realizzare il gioco vero e proprio, durante il quale il giocatore cerca di indovinare il numero segreto. Ad ogni tentativo sbagliato, il programma indica se il numero da indovinare è più alto o più basso di quello inserito dal giocatore.\n",
    "\n",
    "Creare un  ciclo che termina con la \"vittoria\" del giocatore (numero indovinato) oppure quando il giocatore da in input il carattere `q`. All'interno del ciclo inserire il codice per eseguire le seguenti operazioni.\n",
    "1. Mostra al giocatore il numero di tentativo 1,2,... e chiede di inserire il numero.\n",
    "2. Controlla se il numero inserito corrisponde a quello generato a caso.\n",
    "    * Se il numero indicato è quello corretto, mostra un messaggio di \"vittoria\" indicando quanti tentavi sono stati fatti.\n",
    "    * Se il numero indicato **non** è quello corretto, il gioco mostra un messaggio indicando se il numero da indovinare è più alto o più basso di quello immesso dal giocatore.\n",
    "3. **Opzionale** I messaggi (vittoria, più alto e più basso) possono cambiare nei vari tentativi, scegliendo in modo casuale da una serie di messaggi pre impostati. Suggerimento: usare tre liste di stringhe una per la vittoria una per numero più alto e una per numero più basso.\n",
    "\n",
    "L'output del codice dovrà essere simile a quello riportato sotto.\n",
    "\n",
    "```\n",
    "  Attempt 1\n",
    "  DaKing guess my number: 1000\n",
    "  Sorry, my number is not '1000' try a higher value\n",
    "\n",
    "  Attempt 2\n",
    "  DaKing guess my number: 7777\n",
    "  Sorry, you have gone too high!\n",
    "  \n",
    "  Attempt 3\n",
    "  DaKing guess my number: 2022\n",
    "  Wow, you nailed it!\n",
    "  \n",
    "  DaKing won after 3 attempts!\n",
    "```"
   ]
  }
 ],
 "metadata": {
  "kernelspec": {
   "display_name": "Python 3 (ipykernel)",
   "language": "python",
   "name": "python3"
  },
  "language_info": {
   "codemirror_mode": {
    "name": "ipython",
    "version": 3
   },
   "file_extension": ".py",
   "mimetype": "text/x-python",
   "name": "python",
   "nbconvert_exporter": "python",
   "pygments_lexer": "ipython3",
   "version": "3.10.1"
  }
 },
 "nbformat": 4,
 "nbformat_minor": 5
}
