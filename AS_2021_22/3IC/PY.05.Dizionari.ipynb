{
 "cells": [
  {
   "cell_type": "markdown",
   "id": "7c854b51-561e-4a98-9ca6-e1b119c027e2",
   "metadata": {},
   "source": [
    "# Python - Lezione 5: Dizionari\n",
    "Oltre alle *liste* Python offre un ulteriore tipo di struttura dati: i **dizionari** (*dictionary*). Il nome \"dizionario\" deriva proprio dal dizionario linguistico nel quale si cerca una definizione sulla base di una parola. In Python i dizionari sono strutture dati che memorizzano informazioni che possono essere recuperate utilizzando come **chiave** una stringa (si ricordi che le liste permettono di utilizzare come \"chiave\" un indice intero).\n",
    "\n",
    "## Dichiarazione di un dizionario\n",
    "In Python i dizionari sono indicati attrverso una coppia di parentesi grafe `{ }`."
   ]
  },
  {
   "cell_type": "code",
   "execution_count": 3,
   "id": "d4dc27bc-9787-42cd-ab58-a87ff5b0701a",
   "metadata": {},
   "outputs": [
    {
     "name": "stdout",
     "output_type": "stream",
     "text": [
      "{}\n"
     ]
    }
   ],
   "source": [
    "dizVuoto = {} # Dizionario vuoto\n",
    "diz1 = dict() # Dizionario vuoto con la funzione dict\n",
    "print(dizVuoto)"
   ]
  },
  {
   "cell_type": "markdown",
   "id": "662d2949-4531-4df8-9313-85b008557a1f",
   "metadata": {},
   "source": [
    "È anche possibile indicare il contenuto di un dizionario indicando il contenuto separato da virgola, ogni *entry* del dizionario è una *coppia* `(chiave,valore)` che viene indicata nel seguento modo: `chiave: valore`"
   ]
  },
  {
   "cell_type": "code",
   "execution_count": 5,
   "id": "f9e14991-38bd-412c-b12e-ec0dd3c3cc56",
   "metadata": {},
   "outputs": [
    {
     "name": "stdout",
     "output_type": "stream",
     "text": [
      "{'primo': 1, 'secondo': 'due', 'terzo': 3.0}\n"
     ]
    }
   ],
   "source": [
    "dizionario = {\n",
    "    \"primo\": 1,\n",
    "    \"secondo\": \"due\",\n",
    "    \"terzo\": 3.0\n",
    "} # gli \"a capo riga\" sono comodi per il programmatore, ma Python non li considera\n",
    "print(dizionario)"
   ]
  },
  {
   "cell_type": "markdown",
   "id": "e001dd5c-c013-4b3b-ab20-bc2659720143",
   "metadata": {},
   "source": [
    "## Accesso agli elementi\n",
    "Per accedere agli elementi di un dizionario si una sintassi simile alle liste, al posto dell'indice intero, tuttavia, si usa una stringa (la **chiave**)."
   ]
  },
  {
   "cell_type": "code",
   "execution_count": 6,
   "id": "eeab73c2-ff5d-45a6-9e7e-f646e03f6d0c",
   "metadata": {},
   "outputs": [
    {
     "name": "stdout",
     "output_type": "stream",
     "text": [
      "{}\n",
      "{'primo': 'Numero uno', 'pleonastico': 'Che costituisce pleonasmo, superfluo.', 'un numero': 1221, 'string': 4}\n",
      "\n"
     ]
    }
   ],
   "source": [
    "diz1[\"primo\"] = \"Numero uno\" \n",
    "diz1[\"pleonastico\"] = \"Che costituisce pleonasmo, superfluo.\"\n",
    "diz1[\"un numero\"] = 1221\n",
    "# Ovviamente si possono usare anche variabili\n",
    "v = 4\n",
    "s = \"string\"\n",
    "diz1[s] = v\n",
    "print(diz1)"
   ]
  },
  {
   "cell_type": "markdown",
   "id": "45ced7bb-fe2d-4fea-846d-fe7241fa80fe",
   "metadata": {},
   "source": [
    "**Attenzione** Cercare di accedere ad un elemento ineistente genera un erroro"
   ]
  },
  {
   "cell_type": "code",
   "execution_count": 7,
   "id": "30870385-38ca-4200-af1e-362b355ab750",
   "metadata": {},
   "outputs": [
    {
     "ename": "KeyError",
     "evalue": "'nuovo'",
     "output_type": "error",
     "traceback": [
      "\u001b[0;31m---------------------------------------------------------------------------\u001b[0m",
      "\u001b[0;31mKeyError\u001b[0m                                  Traceback (most recent call last)",
      "\u001b[0;32m/tmp/ipykernel_15/2205783927.py\u001b[0m in \u001b[0;36m<module>\u001b[0;34m\u001b[0m\n\u001b[0;32m----> 1\u001b[0;31m \u001b[0mprint\u001b[0m\u001b[0;34m(\u001b[0m\u001b[0mdiz1\u001b[0m\u001b[0;34m[\u001b[0m\u001b[0;34m\"nuovo\"\u001b[0m\u001b[0;34m]\u001b[0m\u001b[0;34m)\u001b[0m\u001b[0;34m\u001b[0m\u001b[0;34m\u001b[0m\u001b[0m\n\u001b[0m",
      "\u001b[0;31mKeyError\u001b[0m: 'nuovo'"
     ]
    }
   ],
   "source": [
    "print(diz1[\"nuovo\"])"
   ]
  },
  {
   "cell_type": "markdown",
   "id": "40543afd-41d9-419b-af95-4fdbb0fe9cc6",
   "metadata": {},
   "source": [
    "## Iterare su un dizionario\n",
    "Iterare su un dizionario è semplice utilizzando il ciclo `for`, bisogna però ricordarsi che l'indice di ciclo sarà la *chiave* e che per recuperare il valore dobbiamo accedere al dizionario."
   ]
  },
  {
   "cell_type": "code",
   "execution_count": 9,
   "id": "36362c17-72d6-4b55-ad0d-3e245db2b536",
   "metadata": {},
   "outputs": [
    {
     "name": "stdout",
     "output_type": "stream",
     "text": [
      "primo Numero uno\n",
      "pleonastico Che costituisce pleonasmo, superfluo.\n",
      "un numero 1221\n",
      "string 4\n"
     ]
    }
   ],
   "source": [
    "for e in diz1:\n",
    "    print(e, diz1[e])"
   ]
  },
  {
   "cell_type": "markdown",
   "id": "56300944-ad38-4224-9ce4-e54db2d99a25",
   "metadata": {},
   "source": [
    "È possibile usare il metodo `items` dei dizionari per farsi restituire l'intera coppia `(chiave, valore)`"
   ]
  },
  {
   "cell_type": "code",
   "execution_count": 10,
   "id": "cb4f58f3-b1ad-40af-a22e-aa82dd61c40e",
   "metadata": {},
   "outputs": [
    {
     "name": "stdout",
     "output_type": "stream",
     "text": [
      "primo Numero uno\n",
      "pleonastico Che costituisce pleonasmo, superfluo.\n",
      "un numero 1221\n",
      "string 4\n"
     ]
    }
   ],
   "source": [
    "for k, v in diz1.items():\n",
    "    print(k, v)"
   ]
  }
 ],
 "metadata": {
  "kernelspec": {
   "display_name": "Python 3 (ipykernel)",
   "language": "python",
   "name": "python3"
  },
  "language_info": {
   "codemirror_mode": {
    "name": "ipython",
    "version": 3
   },
   "file_extension": ".py",
   "mimetype": "text/x-python",
   "name": "python",
   "nbconvert_exporter": "python",
   "pygments_lexer": "ipython3",
   "version": "3.10.1"
  }
 },
 "nbformat": 4,
 "nbformat_minor": 5
}
