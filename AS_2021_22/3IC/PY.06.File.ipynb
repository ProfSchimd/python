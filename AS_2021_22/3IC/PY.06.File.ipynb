{
 "cells": [
  {
   "cell_type": "markdown",
   "id": "50cfabf8-6fe8-477b-b8c8-02c667cfe697",
   "metadata": {},
   "source": [
    "# Python - Lezione 6: Gestione dei file\n",
    "Gestire i file di testo in Python è semplice e basta utilizzare la funziona *built-in* `open` la quale (per file in lettura) richiede solo un parametro che rappresenta il *path* del file da aprire. Se il file non esiste verrà generata un'eccezione."
   ]
  },
  {
   "cell_type": "code",
   "execution_count": 1,
   "id": "880ce256-c771-4967-b9e2-a9dba863556f",
   "metadata": {},
   "outputs": [],
   "source": [
    "path = \"esempio.txt\""
   ]
  },
  {
   "cell_type": "code",
   "execution_count": 2,
   "id": "5da907c1-db29-416b-b385-5a8674847c0a",
   "metadata": {},
   "outputs": [],
   "source": [
    "f = open(path)"
   ]
  },
  {
   "cell_type": "markdown",
   "id": "29e22ce5-fdda-4b01-aefb-a86de93546b8",
   "metadata": {},
   "source": [
    "Una volta aperto il file, possiamo usare il `for` (ricordiamo in Python questo è un *for-each*) che ci darà, ad ogni iterazione, una riga del file."
   ]
  },
  {
   "cell_type": "code",
   "execution_count": 3,
   "id": "9bd9c520-66d6-45d8-a71c-a4bc750ba9fe",
   "metadata": {},
   "outputs": [
    {
     "name": "stdout",
     "output_type": "stream",
     "text": [
      "Id,nome,cognome,punti\n",
      "\n",
      "1,andrea,rossi,0\n",
      "\n",
      "2,giorgio,verdi,23\n",
      "\n",
      "3,gino,fumagalli,28\n",
      "\n",
      "5,andrea,marchese,12\n",
      "\n",
      "4,giovanni,parenti,12\n",
      "\n"
     ]
    }
   ],
   "source": [
    "for riga in f:\n",
    "    print(riga)"
   ]
  },
  {
   "cell_type": "markdown",
   "id": "59b2b13c-b41b-486b-96c5-82a428d96568",
   "metadata": {},
   "source": [
    "**Attenzione** dall'output si nota come il carattere *new line* presente alla fine di una riga del file **non** viene eliminato durante la lettura. Per questo motivo l'ouput sopra contiente due caratteri di *new line*: uno presente nel file e uno inserito dalla funzione `print`.\n",
    "\n",
    "Terminato l'utilizzo del file (sia in lettura che in scrittura), è bene sempre procedere alla chiusra del file utilizzato, in Python questo avviene con la funzione `close` che accetta il *descrittore di file* restituito dalla funzione `open`."
   ]
  },
  {
   "cell_type": "code",
   "execution_count": 4,
   "id": "2a029560-a2ae-41e3-bc1d-3611ed150754",
   "metadata": {},
   "outputs": [],
   "source": [
    "f.close()"
   ]
  },
  {
   "cell_type": "markdown",
   "id": "08743e1f-f78c-47f7-923c-bee62d64b311",
   "metadata": {},
   "source": [
    "Per aprire un file in lettura bisogna usare un secondo parametro della funzione `open` che è una stringa, per la scrittura questa stringa deve contere il carattere `w` (*write*). È anche possibile usare il secondo parametro per apire file in lettura utilizzando una stringa con il carattere `r` (*read*).\n",
    "\n",
    "Per scrivere una stringa su un file di testo aperto in scrittura, si usa il metodo `write` del descrittore di file restituito da `open`. **Attenzione** che in questo caso `write` **non** inserisce automaticamente un *new line* come `print`.\n",
    "\n",
    "Il codice sotto crea una copia esatta del file `esempio.txt` chiamando questa copia `scrittura.csv`."
   ]
  },
  {
   "cell_type": "code",
   "execution_count": 6,
   "id": "9edc5b5b-eddc-4a12-8b6f-2dac501df164",
   "metadata": {},
   "outputs": [],
   "source": [
    "f = open(\"esempio.txt\", \"r\") # apre 'esempio.txt' in lettura (r -> read)\n",
    "out_path = \"scrittura.csv\"\n",
    "fo = open(out_path, \"w\") # apre 'scrittura.csv' in scrittura (w -> write)\n",
    "for riga in f:\n",
    "    fo.write(riga)\n",
    "# Sempre chiudere i file\n",
    "fo.close()\n",
    "f.close()"
   ]
  },
  {
   "cell_type": "markdown",
   "id": "f936b385-d3f1-437b-96f7-4a518bd311c1",
   "metadata": {},
   "source": [
    "## Processing\n",
    "Quando si lavora con i file (ma non solo) è comodo avere delle funzioni o dei metodi che ci permettano di fare alcune operazioni molto frequenti.\n",
    "\n",
    "### Eliminare caratteri spazio\n",
    "Il metodo `strip()` delle stringhe Python permette di eliminare tutti i caratteri spazio (compresi tab, new line, ...) che si trovano all'inizio e alla fine della stringa. L'esempio sotto mostra il contenuto del file nel path memorizzato nella variabile `path` (vedi sopra) con un sola *new line* (quello inserito da `print`). Si noti la differenza con l'output visto in precedenza."
   ]
  },
  {
   "cell_type": "code",
   "execution_count": 7,
   "id": "f8251819-44f9-4289-8a87-d3cc7ed1237c",
   "metadata": {},
   "outputs": [
    {
     "name": "stdout",
     "output_type": "stream",
     "text": [
      "Id,nome,cognome,punti\n",
      "1,andrea,rossi,0\n",
      "2,giorgio,verdi,23\n",
      "3,gino,fumagalli,28\n",
      "5,andrea,marchese,12\n",
      "4,giovanni,parenti,12\n"
     ]
    }
   ],
   "source": [
    "f = open(path)\n",
    "for riga in f:\n",
    "    print(riga.strip())\n",
    "f.close()"
   ]
  },
  {
   "cell_type": "code",
   "execution_count": 8,
   "id": "019fc491-fef4-4640-a1f2-16700015dc48",
   "metadata": {},
   "outputs": [
    {
     "name": "stdout",
     "output_type": "stream",
     "text": [
      "   del testo\t\n",
      " 14\n",
      "del testo 9\n"
     ]
    }
   ],
   "source": [
    "# Altro esempio di strip\n",
    "s = \"   del testo\\t\\n\"\n",
    "print(s, len(s))\n",
    "print(s.strip(), len(s.strip()))"
   ]
  },
  {
   "cell_type": "markdown",
   "id": "4987d0cc-9845-4178-8773-f6dfdaaf7c4d",
   "metadata": {},
   "source": [
    "### Dividere una stringa\n",
    "Spesso serve dividere una stringa in parti utilizzando un qualche *separatore*, a questo scopo le stringhe Python offrono il metodo `strip` che accetta come parametro la **stringa** (ricordiamo che in Python non esistono i *char*) che sarà usata come sepearatore. Nell'esempio sotto il separatore è il carattere `:` (due punti)."
   ]
  },
  {
   "cell_type": "code",
   "execution_count": 9,
   "id": "11027b17-b513-409d-92fc-ff6ad166d123",
   "metadata": {},
   "outputs": [],
   "source": [
    "s2 = \"1:antony:cuomo\""
   ]
  },
  {
   "cell_type": "code",
   "execution_count": 10,
   "id": "2147625f-ae29-4551-9554-888c7754abca",
   "metadata": {},
   "outputs": [
    {
     "name": "stdout",
     "output_type": "stream",
     "text": [
      "['1', 'antony', 'cuomo']\n"
     ]
    }
   ],
   "source": [
    "print(s2.split(\":\"))"
   ]
  },
  {
   "cell_type": "markdown",
   "id": "5de82450-fa95-4281-9ec3-3ab6ce3752ae",
   "metadata": {},
   "source": [
    "**Attenzione** il metodo `split` restituisce una *lista di stringhe* con un elemento nella lista per ogni elemento separato nella stringa.\n",
    "\n",
    "Utilizzando `split` possiamo dividere i vari *campi* presente nel file di esempio che stiamo utilizzando dove i campi sono separati da una virgola."
   ]
  },
  {
   "cell_type": "code",
   "execution_count": 11,
   "id": "41ba8c92-e5f1-4a74-b4d4-3fa9347b1718",
   "metadata": {},
   "outputs": [],
   "source": [
    "matrice = []\n",
    "f = open(path)\n",
    "for riga in f:\n",
    "    lista = riga.strip().split(\",\")\n",
    "    matrice.append(lista)\n",
    "f.close()"
   ]
  },
  {
   "cell_type": "code",
   "execution_count": 12,
   "id": "e5b91d76-8801-46df-a60f-054494213ae1",
   "metadata": {},
   "outputs": [
    {
     "name": "stdout",
     "output_type": "stream",
     "text": [
      "[['Id', 'nome', 'cognome', 'punti'], ['1', 'andrea', 'rossi', '0'], ['2', 'giorgio', 'verdi', '23'], ['3', 'gino', 'fumagalli', '28'], ['5', 'andrea', 'marchese', '12'], ['4', 'giovanni', 'parenti', '12']]\n"
     ]
    }
   ],
   "source": [
    "print(matrice)"
   ]
  },
  {
   "cell_type": "markdown",
   "id": "4d1249fe-a733-4058-a64a-ff284796fa5e",
   "metadata": {},
   "source": [
    "Nell'esempio sopra abbiamo usato il metodo `append` delle liste che **modifica la lista** aggiungendo quello che viene passato come un nuovo elemento nella lista. L'esempio sopra crea una *lista di liste* che possiamo vedere utilizzando il `for`."
   ]
  },
  {
   "cell_type": "code",
   "execution_count": 33,
   "id": "157151a3-33cd-47b2-99ca-7a379b87c9c4",
   "metadata": {},
   "outputs": [
    {
     "name": "stdout",
     "output_type": "stream",
     "text": [
      "['Id', 'nome', 'cognome', 'punti']\n",
      "['1', 'andrea', 'rossi', '0']\n",
      "['2', 'giorgio', 'verdi', '23']\n",
      "['3', 'gino', 'fumagalli', '28']\n",
      "['5', 'andrea', 'marchese', '12']\n",
      "['4', 'giovanni', 'parenti', '12']\n"
     ]
    }
   ],
   "source": [
    "for lista in matrice:\n",
    "    print(lista)"
   ]
  },
  {
   "cell_type": "markdown",
   "id": "690ef751-1c59-4bbe-ae32-948e75658ee2",
   "metadata": {},
   "source": [
    "Questa *lista di lista* può essere utilizzata quasi come un array bidimensionale: con due indici possiamo accedere ad uno specifico elemento."
   ]
  },
  {
   "cell_type": "code",
   "execution_count": 13,
   "id": "0bf28b99-35d6-474b-b276-421c91c78752",
   "metadata": {},
   "outputs": [
    {
     "data": {
      "text/plain": [
       "'Id'"
      ]
     },
     "execution_count": 13,
     "metadata": {},
     "output_type": "execute_result"
    }
   ],
   "source": [
    "matrice[0][0]"
   ]
  },
  {
   "cell_type": "code",
   "execution_count": 14,
   "id": "c8028ac4-7551-4ecb-86d6-2483c08bf164",
   "metadata": {},
   "outputs": [
    {
     "data": {
      "text/plain": [
       "'andrea'"
      ]
     },
     "execution_count": 14,
     "metadata": {},
     "output_type": "execute_result"
    }
   ],
   "source": [
    "matrice[1][1]"
   ]
  },
  {
   "cell_type": "code",
   "execution_count": 15,
   "id": "cefbf139-2424-40d8-9990-146280c2adc9",
   "metadata": {},
   "outputs": [
    {
     "data": {
      "text/plain": [
       "'verdi'"
      ]
     },
     "execution_count": 15,
     "metadata": {},
     "output_type": "execute_result"
    }
   ],
   "source": [
    "matrice[2][2]"
   ]
  },
  {
   "cell_type": "markdown",
   "id": "841085ca-bcfd-4dfe-9628-b7de2ed8f8ae",
   "metadata": {},
   "source": [
    "Tuttavia usando un solo indice otteniamo un'intera \"riga\" della nostra \"matrice\"."
   ]
  },
  {
   "cell_type": "code",
   "execution_count": 16,
   "id": "4d4c15cf-8455-4a5e-b86a-4066034f3e8a",
   "metadata": {},
   "outputs": [
    {
     "name": "stdout",
     "output_type": "stream",
     "text": [
      "['2', 'giorgio', 'verdi', '23']\n"
     ]
    }
   ],
   "source": [
    "print(matrice[2])"
   ]
  },
  {
   "cell_type": "markdown",
   "id": "d1bf1b2c-1961-4b8c-8155-fc5a53dd8a1a",
   "metadata": {},
   "source": [
    "Quando usiamo due indici, il secondo indica l'elemento all'interno della lista selezionata dal primo indice."
   ]
  },
  {
   "cell_type": "code",
   "execution_count": 17,
   "id": "81f95349-db72-41e7-8750-1df1242f8ce6",
   "metadata": {},
   "outputs": [
    {
     "data": {
      "text/plain": [
       "'verdi'"
      ]
     },
     "execution_count": 17,
     "metadata": {},
     "output_type": "execute_result"
    }
   ],
   "source": [
    "['2', 'giorgio', 'verdi', '23'][2]"
   ]
  },
  {
   "cell_type": "code",
   "execution_count": 18,
   "id": "4e13ea84-d19e-4646-980c-bff1bff23e35",
   "metadata": {},
   "outputs": [
    {
     "name": "stdout",
     "output_type": "stream",
     "text": [
      "nome\n"
     ]
    }
   ],
   "source": [
    "print(matrice[0][1])"
   ]
  },
  {
   "cell_type": "code",
   "execution_count": 19,
   "id": "ce279e8f-e7b5-48bc-a3c1-66acd8bc4ebd",
   "metadata": {},
   "outputs": [
    {
     "name": "stdout",
     "output_type": "stream",
     "text": [
      "['2', 'giorgio', 'verdi', '23']\n"
     ]
    }
   ],
   "source": [
    "unaLista = matrice[2]\n",
    "print(unaLista)"
   ]
  },
  {
   "cell_type": "markdown",
   "id": "11e6a32f-20b8-4130-ac7a-fcd7c263c577",
   "metadata": {},
   "source": [
    "### L'inverso di `split`\n",
    "Le stringhe Python anche un ulteriore metodo molto utile che è chiamato `join` e che si aspetta come input una stringa. Questo metodo crea e restituisce una nuova stringa che è la concatenazione degli elementi della lista (che perciò devono essere stringhe) separata dal contenuto della stringa su cui il metodo viene chiamato.\n",
    "\n",
    "Nel seguente esempio, gli elementi di `unaLista` vengono concatenati separandoli da un carattere `TAB`"
   ]
  },
  {
   "cell_type": "code",
   "execution_count": 20,
   "id": "c6e6616d-49c2-416e-887a-5d0a306a6dcc",
   "metadata": {},
   "outputs": [
    {
     "name": "stdout",
     "output_type": "stream",
     "text": [
      "2\tgiorgio\tverdi\t23\n"
     ]
    }
   ],
   "source": [
    "out = \"\\t\".join(unaLista)\n",
    "print(out)"
   ]
  },
  {
   "cell_type": "markdown",
   "id": "8ab958e9-dc26-4e3b-b865-14fef3a37fff",
   "metadata": {},
   "source": [
    "In questo altro esempio il separatore è la stringa ` <-> `"
   ]
  },
  {
   "cell_type": "code",
   "execution_count": 21,
   "id": "ab1c45a7-cad4-4545-8854-c7108d4921e1",
   "metadata": {},
   "outputs": [
    {
     "name": "stdout",
     "output_type": "stream",
     "text": [
      "2 <-> giorgio <-> verdi <-> 23\n"
     ]
    }
   ],
   "source": [
    "out = \" <-> \".join(unaLista)\n",
    "print(out)"
   ]
  },
  {
   "cell_type": "markdown",
   "id": "bf00ac34-a1dc-46bd-8018-0d0389d379f3",
   "metadata": {},
   "source": [
    "Facendo agire prima `join` e poi `split` si vede come le due sono funzioni \"inverse\" nel senso che una fa il contrario dell'altra (ovviamente con gli opportuni parametri)"
   ]
  },
  {
   "cell_type": "code",
   "execution_count": 22,
   "id": "7be6ec13-8689-4834-afc7-0f8eeccd1ffe",
   "metadata": {},
   "outputs": [
    {
     "data": {
      "text/plain": [
       "['2', 'giorgio', 'verdi', '23']"
      ]
     },
     "execution_count": 22,
     "metadata": {},
     "output_type": "execute_result"
    }
   ],
   "source": [
    "\",\".join(unaLista).split(\",\")"
   ]
  }
 ],
 "metadata": {
  "kernelspec": {
   "display_name": "Python 3 (ipykernel)",
   "language": "python",
   "name": "python3"
  },
  "language_info": {
   "codemirror_mode": {
    "name": "ipython",
    "version": 3
   },
   "file_extension": ".py",
   "mimetype": "text/x-python",
   "name": "python",
   "nbconvert_exporter": "python",
   "pygments_lexer": "ipython3",
   "version": "3.10.1"
  }
 },
 "nbformat": 4,
 "nbformat_minor": 5
}
