{
 "cells": [
  {
   "cell_type": "markdown",
   "id": "50cfabf8-6fe8-477b-b8c8-02c667cfe697",
   "metadata": {},
   "source": [
    "# Python - Lezione 6: Gestione dei file"
   ]
  },
  {
   "cell_type": "code",
   "execution_count": null,
   "id": "880ce256-c771-4967-b9e2-a9dba863556f",
   "metadata": {},
   "outputs": [],
   "source": []
  }
 ],
 "metadata": {
  "kernelspec": {
   "display_name": "Python 3 (ipykernel)",
   "language": "python",
   "name": "python3"
  },
  "language_info": {
   "codemirror_mode": {
    "name": "ipython",
    "version": 3
   },
   "file_extension": ".py",
   "mimetype": "text/x-python",
   "name": "python",
   "nbconvert_exporter": "python",
   "pygments_lexer": "ipython3",
   "version": "3.10.1"
  }
 },
 "nbformat": 4,
 "nbformat_minor": 5
}
