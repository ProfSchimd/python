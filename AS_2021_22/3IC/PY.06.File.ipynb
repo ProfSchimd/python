{
 "cells": [
  {
   "cell_type": "markdown",
   "id": "50cfabf8-6fe8-477b-b8c8-02c667cfe697",
   "metadata": {},
   "source": [
    "# Python - Lezione 6: Gestione dei file"
   ]
  },
  {
   "cell_type": "code",
   "execution_count": 1,
   "id": "880ce256-c771-4967-b9e2-a9dba863556f",
   "metadata": {},
   "outputs": [],
   "source": [
    "path = \"esempio.txt\""
   ]
  },
  {
   "cell_type": "code",
   "execution_count": 13,
   "id": "5da907c1-db29-416b-b385-5a8674847c0a",
   "metadata": {},
   "outputs": [],
   "source": [
    "f = open(path)"
   ]
  },
  {
   "cell_type": "code",
   "execution_count": 14,
   "id": "9bd9c520-66d6-45d8-a71c-a4bc750ba9fe",
   "metadata": {},
   "outputs": [
    {
     "name": "stdout",
     "output_type": "stream",
     "text": [
      "Id,nome,cognome,punti\n",
      "\n",
      "1,andrea,rossi,0\n",
      "\n",
      "2,giorgio,verdi,23\n",
      "\n",
      "3,gino,fumagalli,28\n",
      "\n",
      "5,andrea,marchese,12\n",
      "\n",
      "4,giovanni,parenti,12\n",
      "\n"
     ]
    }
   ],
   "source": [
    "for riga in f:\n",
    "    print(riga)"
   ]
  },
  {
   "cell_type": "code",
   "execution_count": 11,
   "id": "2a029560-a2ae-41e3-bc1d-3611ed150754",
   "metadata": {},
   "outputs": [],
   "source": [
    "f.close()"
   ]
  },
  {
   "cell_type": "code",
   "execution_count": 5,
   "id": "9edc5b5b-eddc-4a12-8b6f-2dac501df164",
   "metadata": {},
   "outputs": [],
   "source": [
    "f = open(\"esempio.txt\", \"r\") # apre 'esempio.txt' in lettura (r -> read)\n",
    "out_path = \"scrittura.csv\"\n",
    "fo = open(out_path, \"w\") # apre 'scrittura.csv' in scrittura (w -> write)\n",
    "for riga in f:\n",
    "    fo.write(riga)\n",
    "fo.close()\n",
    "f.close()"
   ]
  },
  {
   "cell_type": "markdown",
   "id": "f936b385-d3f1-437b-96f7-4a518bd311c1",
   "metadata": {},
   "source": [
    "## Processing"
   ]
  },
  {
   "cell_type": "code",
   "execution_count": 16,
   "id": "f8251819-44f9-4289-8a87-d3cc7ed1237c",
   "metadata": {},
   "outputs": [
    {
     "name": "stdout",
     "output_type": "stream",
     "text": [
      "Id,nome,cognome,punti\n",
      "1,andrea,rossi,0\n",
      "2,giorgio,verdi,23\n",
      "3,gino,fumagalli,28\n",
      "5,andrea,marchese,12\n",
      "4,giovanni,parenti,12\n"
     ]
    }
   ],
   "source": [
    "f = open(path)\n",
    "for riga in f:\n",
    "    print(riga.strip())\n",
    "f.close()"
   ]
  },
  {
   "cell_type": "code",
   "execution_count": 23,
   "id": "019fc491-fef4-4640-a1f2-16700015dc48",
   "metadata": {},
   "outputs": [
    {
     "name": "stdout",
     "output_type": "stream",
     "text": [
      "   del testo\t\n",
      " 14\n",
      "del testo 9\n"
     ]
    }
   ],
   "source": [
    "s = \"   del testo\\t\\n\"\n",
    "print(s, len(s))\n",
    "print(s.strip(), len(s.strip()))"
   ]
  },
  {
   "cell_type": "code",
   "execution_count": 28,
   "id": "11027b17-b513-409d-92fc-ff6ad166d123",
   "metadata": {},
   "outputs": [],
   "source": [
    "s2 = \"1:antony:cuomo\""
   ]
  },
  {
   "cell_type": "code",
   "execution_count": 29,
   "id": "2147625f-ae29-4551-9554-888c7754abca",
   "metadata": {},
   "outputs": [
    {
     "name": "stdout",
     "output_type": "stream",
     "text": [
      "['1', 'antony', 'cuomo']\n"
     ]
    }
   ],
   "source": [
    "print(s2.split(\":\"))"
   ]
  },
  {
   "cell_type": "code",
   "execution_count": 31,
   "id": "41ba8c92-e5f1-4a74-b4d4-3fa9347b1718",
   "metadata": {},
   "outputs": [],
   "source": [
    "matrice = []\n",
    "f = open(path)\n",
    "for riga in f:\n",
    "    lista = riga.strip().split(\",\")\n",
    "    matrice.append(lista)\n",
    "f.close()"
   ]
  },
  {
   "cell_type": "code",
   "execution_count": 32,
   "id": "e5b91d76-8801-46df-a60f-054494213ae1",
   "metadata": {},
   "outputs": [
    {
     "name": "stdout",
     "output_type": "stream",
     "text": [
      "[['Id', 'nome', 'cognome', 'punti'], ['1', 'andrea', 'rossi', '0'], ['2', 'giorgio', 'verdi', '23'], ['3', 'gino', 'fumagalli', '28'], ['5', 'andrea', 'marchese', '12'], ['4', 'giovanni', 'parenti', '12']]\n"
     ]
    }
   ],
   "source": [
    "print(matrice)"
   ]
  },
  {
   "cell_type": "code",
   "execution_count": 33,
   "id": "157151a3-33cd-47b2-99ca-7a379b87c9c4",
   "metadata": {},
   "outputs": [
    {
     "name": "stdout",
     "output_type": "stream",
     "text": [
      "['Id', 'nome', 'cognome', 'punti']\n",
      "['1', 'andrea', 'rossi', '0']\n",
      "['2', 'giorgio', 'verdi', '23']\n",
      "['3', 'gino', 'fumagalli', '28']\n",
      "['5', 'andrea', 'marchese', '12']\n",
      "['4', 'giovanni', 'parenti', '12']\n"
     ]
    }
   ],
   "source": [
    "for lista in matrice:\n",
    "    print(lista)"
   ]
  },
  {
   "cell_type": "code",
   "execution_count": 34,
   "id": "0bf28b99-35d6-474b-b276-421c91c78752",
   "metadata": {},
   "outputs": [
    {
     "data": {
      "text/plain": [
       "'Id'"
      ]
     },
     "execution_count": 34,
     "metadata": {},
     "output_type": "execute_result"
    }
   ],
   "source": [
    "matrice[0][0]"
   ]
  },
  {
   "cell_type": "code",
   "execution_count": 35,
   "id": "c8028ac4-7551-4ecb-86d6-2483c08bf164",
   "metadata": {},
   "outputs": [
    {
     "data": {
      "text/plain": [
       "'andrea'"
      ]
     },
     "execution_count": 35,
     "metadata": {},
     "output_type": "execute_result"
    }
   ],
   "source": [
    "matrice[1][1]"
   ]
  },
  {
   "cell_type": "code",
   "execution_count": 36,
   "id": "cefbf139-2424-40d8-9990-146280c2adc9",
   "metadata": {},
   "outputs": [
    {
     "data": {
      "text/plain": [
       "'verdi'"
      ]
     },
     "execution_count": 36,
     "metadata": {},
     "output_type": "execute_result"
    }
   ],
   "source": [
    "matrice[2][2]"
   ]
  },
  {
   "cell_type": "code",
   "execution_count": 40,
   "id": "4d4c15cf-8455-4a5e-b86a-4066034f3e8a",
   "metadata": {},
   "outputs": [
    {
     "name": "stdout",
     "output_type": "stream",
     "text": [
      "['2', 'giorgio', 'verdi', '23']\n"
     ]
    }
   ],
   "source": [
    "print(matrice[2])"
   ]
  },
  {
   "cell_type": "code",
   "execution_count": 38,
   "id": "81f95349-db72-41e7-8750-1df1242f8ce6",
   "metadata": {},
   "outputs": [
    {
     "data": {
      "text/plain": [
       "'verdi'"
      ]
     },
     "execution_count": 38,
     "metadata": {},
     "output_type": "execute_result"
    }
   ],
   "source": [
    "['2', 'giorgio', 'verdi', '23'][2]"
   ]
  },
  {
   "cell_type": "code",
   "execution_count": 39,
   "id": "4e13ea84-d19e-4646-980c-bff1bff23e35",
   "metadata": {},
   "outputs": [
    {
     "name": "stdout",
     "output_type": "stream",
     "text": [
      "nome\n"
     ]
    }
   ],
   "source": [
    "print(matrice[0][1])"
   ]
  },
  {
   "cell_type": "code",
   "execution_count": 41,
   "id": "ce279e8f-e7b5-48bc-a3c1-66acd8bc4ebd",
   "metadata": {},
   "outputs": [
    {
     "name": "stdout",
     "output_type": "stream",
     "text": [
      "['2', 'giorgio', 'verdi', '23']\n"
     ]
    }
   ],
   "source": [
    "unaLista = matrice[2]\n",
    "print(unaLista)"
   ]
  },
  {
   "cell_type": "code",
   "execution_count": 42,
   "id": "c6e6616d-49c2-416e-887a-5d0a306a6dcc",
   "metadata": {},
   "outputs": [
    {
     "name": "stdout",
     "output_type": "stream",
     "text": [
      "2\tgiorgio\tverdi\t23\n"
     ]
    }
   ],
   "source": [
    "out = \"\\t\".join(unaLista)\n",
    "print(out)"
   ]
  },
  {
   "cell_type": "code",
   "execution_count": 43,
   "id": "ab1c45a7-cad4-4545-8854-c7108d4921e1",
   "metadata": {},
   "outputs": [
    {
     "name": "stdout",
     "output_type": "stream",
     "text": [
      "2 <-> giorgio <-> verdi <-> 23\n"
     ]
    }
   ],
   "source": [
    "out = \" <-> \".join(unaLista)\n",
    "print(out)"
   ]
  },
  {
   "cell_type": "code",
   "execution_count": 44,
   "id": "056d4f91-8d62-495e-8d81-61e67a9e7425",
   "metadata": {},
   "outputs": [
    {
     "data": {
      "text/plain": [
       "str"
      ]
     },
     "execution_count": 44,
     "metadata": {},
     "output_type": "execute_result"
    }
   ],
   "source": [
    "type(out)"
   ]
  },
  {
   "cell_type": "code",
   "execution_count": 45,
   "id": "7be6ec13-8689-4834-afc7-0f8eeccd1ffe",
   "metadata": {},
   "outputs": [
    {
     "data": {
      "text/plain": [
       "['2', 'giorgio', 'verdi', '23']"
      ]
     },
     "execution_count": 45,
     "metadata": {},
     "output_type": "execute_result"
    }
   ],
   "source": [
    "\",\".join(unaLista).split(\",\")"
   ]
  },
  {
   "cell_type": "code",
   "execution_count": null,
   "id": "2cb402cc-9b15-4b28-a1e2-fa3fbdad5591",
   "metadata": {},
   "outputs": [],
   "source": []
  }
 ],
 "metadata": {
  "kernelspec": {
   "display_name": "Python 3 (ipykernel)",
   "language": "python",
   "name": "python3"
  },
  "language_info": {
   "codemirror_mode": {
    "name": "ipython",
    "version": 3
   },
   "file_extension": ".py",
   "mimetype": "text/x-python",
   "name": "python",
   "nbconvert_exporter": "python",
   "pygments_lexer": "ipython3",
   "version": "3.10.1"
  }
 },
 "nbformat": 4,
 "nbformat_minor": 5
}
