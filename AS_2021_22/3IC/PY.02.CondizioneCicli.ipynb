{
 "cells": [
  {
   "cell_type": "markdown",
   "id": "0081ce23-142b-4b37-b70f-9294b3737285",
   "metadata": {},
   "source": [
    "# Python - Lezione 2: condizione e Cicli\n",
    "In questa lezione vediamo come\n",
    "\n",
    "* cambiare il *flusso* di programma con condizione ed `if`\n",
    "* utilizzare il costrutto `while` per i cicli\n",
    "\n",
    "Inoltre vedremo alcune importanti regole che Python richiede nella stesura del codice. La prima regola è che **le istruzioni Python sono divise dal 'capo riga'** cioè per delimitare le istruzione non usano simboli speciali (come il punto e virgola `;` usato in Java, C++ e molti altri), ma si va a capo. La conseguenza ovvia è che **non ci possono essere due istruzioni sulla stessa riga**.\n",
    "\n",
    "## `if`\n",
    "\n",
    "L'istruzione permette di cambiare il *flusso delle istruzioni* sulla base del risultato di un *test* su una condizione. Vediamo un esempio"
   ]
  },
  {
   "cell_type": "code",
   "execution_count": 1,
   "id": "ad39f46a-1546-456f-8256-7698bdda7ace",
   "metadata": {},
   "outputs": [
    {
     "name": "stdout",
     "output_type": "stream",
     "text": [
      "Zero!\n"
     ]
    }
   ],
   "source": [
    "i = 0\n",
    "if (i == 0): \n",
    "    print(\"Zero!\") # Eseguito se e i è uguale a zero \n",
    "else:\n",
    "    print(\"Not Zero!!\") # Eseguito se i NON è uguale a zero\n",
    "    if (i > 0):\n",
    "        print(\"Positive\")\n",
    "    else:\n",
    "        print(\"Negative\")"
   ]
  },
  {
   "cell_type": "markdown",
   "id": "085a633d-c6f5-4045-9991-2ac9132a0d86",
   "metadata": {},
   "source": [
    "### Indentazione e blocchi\n",
    "**Attenzione quello che segue vale per tutti i blocchi Python, non solo gli `if`**\n",
    "\n",
    "Come si vede dall'esempio sopra, Python non prevede l'uso delle parentesi grafe `{ }` per delimitare *blocchi di istruzioni*. Infatti quando si deve iniziare un nuovo blocco (che in Java o C++ si inizierebbe con `{`) si va a capo (perché si tratta di una nuova istruzione) e si **indenta** il codice di 4 spazi a destra (vedere l'esempio sopra).\n",
    "\n",
    "Quando un blocco deve essere chiuso (che in Java e C++ si farebbe con `}`), si ritorna all'indentazione precedente, cioè si va a sinistra di 4 spazi.\n",
    "\n",
    "**Nota** praticamente tutte le IDE e gli editor usano la corretta indentazione a 4 spazi anche quando si inserisce il tasto `TAB` in questo modo risulta più facile garantire la corretta sintassi del programma."
   ]
  },
  {
   "cell_type": "markdown",
   "id": "55a01b0a-4095-4da6-8631-d24010d7832f",
   "metadata": {},
   "source": [
    "### `elif`\n",
    "L'esempio sopra mostra un caso molto comune nella programmazione\n",
    "\n",
    "1. Si testa una condizione (nell'esempio `i==0`;\n",
    "2. Se il test è vero, si fanno alcune operazione;\n",
    "3. Altrimenti si esegue un altro test.\n",
    "\n",
    "Il caso sopra esposto è così frequente che Python prevede una sintassi speciale: `if -> elif -> else`"
   ]
  },
  {
   "cell_type": "code",
   "execution_count": 2,
   "id": "1901d539-46e6-4688-bb83-d277b1716503",
   "metadata": {},
   "outputs": [
    {
     "name": "stdout",
     "output_type": "stream",
     "text": [
      "neg\n"
     ]
    }
   ],
   "source": [
    "i = -1\n",
    "if (i == 0):\n",
    "    print(\"Zero\")\n",
    "elif (i > 0):\n",
    "    print(\"pos\")\n",
    "else:\n",
    "    print(\"neg\")\n"
   ]
  },
  {
   "cell_type": "markdown",
   "id": "513a4ad5-1869-43c4-9aa0-12e3ee173d0e",
   "metadata": {},
   "source": [
    "### Congiunzione logiche\n",
    "Il test nell'`if` e nell'`elif` può essere semplice come sopra oppure composto di più *clausole* che possono essere collegato usando `and` oppure `or`. È possibile anche negare una clausola con `not`."
   ]
  },
  {
   "cell_type": "code",
   "execution_count": 3,
   "id": "a305dbe2-685a-4d91-b050-05cdb581899b",
   "metadata": {},
   "outputs": [
    {
     "name": "stdout",
     "output_type": "stream",
     "text": [
      "poisitive\n"
     ]
    }
   ],
   "source": [
    "i = 20\n",
    "if (i != 0) and (i > 0):\n",
    "    print(\"poisitive\")\n",
    "elif (i < 0):\n",
    "    print(\"negative\")\n",
    "else:\n",
    "    print(\"zero\")"
   ]
  },
  {
   "cell_type": "markdown",
   "id": "3471fa66-540e-41b3-9243-9d4790e143a4",
   "metadata": {},
   "source": [
    "## `while`\n",
    "Python prevede due tipi di cicli: `while` e `for`, vediamo prima il `while`. Come in altri linguaggi, questo tipo di ciclo esegue un test ed in caso questo test dia esito positivo viene eseguito un blocco di istruzioni prima di ri-eseguire il test (che se da esito positivo causa l'esecuzione del blocco di codice e così via)"
   ]
  },
  {
   "cell_type": "code",
   "execution_count": 4,
   "id": "d4625b02-842b-4ee3-a65a-266d6040a3c4",
   "metadata": {},
   "outputs": [
    {
     "name": "stdout",
     "output_type": "stream",
     "text": [
      "4\n",
      "3\n",
      "2\n",
      "1\n",
      "Out of 'while'\n"
     ]
    }
   ],
   "source": [
    "lista = [1,2,3,4] # le liste sono una specie di array, ma con caratteristiche diverse (prossime lezioni)\n",
    "n = len(lista)\n",
    "while (n > 0): # controlla se n è positivo, se si allora esegue il blocco di istruzioni sotto\n",
    "    print(lista[n-1])\n",
    "    n -= 1 # dopo questa istruzione viene ri-esegutio il test\n",
    "print(\"Out of 'while'\")"
   ]
  },
  {
   "cell_type": "markdown",
   "id": "3a57727b-044c-446d-986b-d01d02625884",
   "metadata": {},
   "source": [
    "### ``for``"
   ]
  },
  {
   "cell_type": "code",
   "execution_count": null,
   "id": "a6f2981d-1ce0-4f9c-b386-a9aa60f97e8e",
   "metadata": {},
   "outputs": [],
   "source": []
  },
  {
   "cell_type": "markdown",
   "id": "e460fe78-5857-43a3-8ca8-e05ea5538201",
   "metadata": {},
   "source": [
    "## Funzioni"
   ]
  },
  {
   "cell_type": "code",
   "execution_count": null,
   "id": "dc32662f-666e-4211-a400-022f760ea61b",
   "metadata": {},
   "outputs": [],
   "source": []
  },
  {
   "cell_type": "markdown",
   "id": "666deecf-d2a2-479b-955e-bb273ae919dc",
   "metadata": {},
   "source": [
    "# Progetto **Mastermind**\n",
    "## Utili cose per il progetto *Mastermind*\n",
    "### Convertire in numero"
   ]
  },
  {
   "cell_type": "code",
   "execution_count": null,
   "id": "eb2d49dd-d49e-4e99-9e52-85e2edfea613",
   "metadata": {},
   "outputs": [],
   "source": []
  },
  {
   "cell_type": "markdown",
   "id": "8b4ec0d6-aaf0-4d9d-9165-710b8f640b41",
   "metadata": {},
   "source": [
    "### Generare numeri casuali"
   ]
  },
  {
   "cell_type": "code",
   "execution_count": null,
   "id": "74a0e1c6-609f-4696-a0fd-2673c098ffee",
   "metadata": {},
   "outputs": [],
   "source": []
  }
 ],
 "metadata": {
  "kernelspec": {
   "display_name": "Python 3 (ipykernel)",
   "language": "python",
   "name": "python3"
  },
  "language_info": {
   "codemirror_mode": {
    "name": "ipython",
    "version": 3
   },
   "file_extension": ".py",
   "mimetype": "text/x-python",
   "name": "python",
   "nbconvert_exporter": "python",
   "pygments_lexer": "ipython3",
   "version": "3.10.1"
  }
 },
 "nbformat": 4,
 "nbformat_minor": 5
}
