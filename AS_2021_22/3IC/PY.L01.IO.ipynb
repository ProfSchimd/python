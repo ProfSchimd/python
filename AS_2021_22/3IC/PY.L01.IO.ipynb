{
 "cells": [
  {
   "cell_type": "markdown",
   "id": "a1bb6eeb-54a9-46c0-b6a9-c48e85498939",
   "metadata": {},
   "source": [
    "# Laboratorio 1: Input e Output\n",
    "Creiamo un gioco **Gueass a Number** il cui scopo è indovianare, nel minor numero di tentativi, un numero generato casualmente. Il gioco permette di scegliere:\n",
    "\n",
    "* il livello di difficoltà (quante cifre ha il numero da indovinare) ed\n",
    "* il nickname del giocatore.\n",
    "\n",
    "Il gioco tiene traccia di tutte le partite giocate in modo da avere la classifica dei vari giocatori: dal più \"veloce\" (meno tentativ) al più \"lento\" (più tentativi) nell'indovinare il numero.\n",
    "\n",
    "## Parte 1: Benvenuto\n",
    "\n",
    "Scrivere un programma Python che esegua le seguenti operazioni.\n",
    "\n",
    "1. Stampa un messaggio di benvenuto `Welcome to ...` inserendo al posto dei puntini una string che rappresenta il nome del gioco. Questa string deve essere memorizzata in una variabile da usare per la stampa a video.\n",
    "2. Successivamente al messaggio di benvenuto, il programma chiede all'utente di inserire dalla tastiera il proprio `nickname` che viene memorizzato in una variabile. **Attenzione** Il giocatore deve capire che cosa il programma si aspetta in input!\n",
    "3. Dopo aver memorizzato il `nickname` il gioco stampa una stringa di saluto che include il nicknome appena inserito.\n",
    "4. **Opzionale** Si può decidere di \"abbellire\" l'output usando delle *ASCII art* (senza però esagerare)\n",
    "\n",
    "Di seguito viene riportato un esempio del programma richiesto\n",
    "\n",
    "```\n",
    "+---------------------------+\n",
    "| Welcome to Guess a Nunber |\n",
    "+---------------------------+\n",
    "\n",
    "   Please, type your nickename: DaKing\n",
    "\n",
    "Hi DaKing! Let's play together\n",
    "```"
   ]
  }
 ],
 "metadata": {
  "kernelspec": {
   "display_name": "Python 3 (ipykernel)",
   "language": "python",
   "name": "python3"
  },
  "language_info": {
   "codemirror_mode": {
    "name": "ipython",
    "version": 3
   },
   "file_extension": ".py",
   "mimetype": "text/x-python",
   "name": "python",
   "nbconvert_exporter": "python",
   "pygments_lexer": "ipython3",
   "version": "3.10.1"
  }
 },
 "nbformat": 4,
 "nbformat_minor": 5
}
