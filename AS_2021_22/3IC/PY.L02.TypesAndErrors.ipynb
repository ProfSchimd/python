{
 "cells": [
  {
   "cell_type": "markdown",
   "id": "a1bb6eeb-54a9-46c0-b6a9-c48e85498939",
   "metadata": {
    "tags": []
   },
   "source": [
    "# Laboratorio 2: Tipi e Gestione errori\n",
    "Creiamo un gioco **Gueass a Number** il cui scopo è indovianare, nel minor numero di tentativi, un numero generato casualmente. Il gioco permette di scegliere:\n",
    "* il livello di difficoltà (quante cifre ha il numero da indovinare) ed\n",
    "* il nickname del giocatore.\n",
    "Il gioco tiene traccia di tutte le partite giocate in modo da avere la classifica dei vari giocatori: dal più \"veloce\" (meno tentativ) al più \"lento\" (più tentativi) nell'indovinare il numero.\n",
    "\n",
    "## Parte 1: Benvenuto\n",
    "\n",
    "Scrivere un programma Python che esegua le seguenti operazioni.\n",
    "1. Stampa un messaggio di benvenuto `Welcome to ...` inserendo al posto dei puntini una string che rappresenta il nome del gioco. Questa string deve essere memorizzata in una variabile da usare per la stampa a video.\n",
    "2. Successivamente al messaggio di benvenuto, il programma chiede all'utente di inserire dalla tastiera il proprio `nickname` che viene memorizzato in una variabile. **Attenzione** Il giocatore deve capire che cosa il programma si aspetta in input!\n",
    "3. Dopo aver memorizzato il `nickname` il gioco stampa una stringa di saluto che include il nicknome appena inserito.\n",
    "4. **Opzionale** Si può decidere di \"abbellire\" l'output usando delle *ASCII art* (senza però esagerare)\n",
    "\n",
    "Di seguito viene riportato un esempio del programma richiesto\n",
    "\n",
    "```\n",
    "+---------------------------+\n",
    "| Welcome to Guess a Nunber |\n",
    "+---------------------------+\n",
    "\n",
    "   Please, type your nickename: DaKing\n",
    "\n",
    "Hi DaKing! Let's play together\n",
    "```"
   ]
  },
  {
   "cell_type": "markdown",
   "id": "67dfdb67-6daf-4046-acc4-24f0bd49b711",
   "metadata": {},
   "source": [
    "## Parte 2: Impostazioni di gioco\n",
    "\n",
    "Il gioco prevede diversi livelli di difficoltà da 1 a 5, all'inizio della partita il giocatore deve impostare il livello desiderato.\n",
    "\n",
    "Aggiungere al programma Python il codice per eseguire le seguenti operazioni.\n",
    "1. Chiede al giocatore (prima dell'inizio della partita) quale `livello di difficoltà` vuole impostare. Questo livello deve essere **un numero intero tra 1 e 5** ottenuto dalla tastiera. L'istruzione `int(s)` converte la stringa `s` in un intero, generando un errore se questa conversione non va a buon fine.\n",
    "2. Imposta il `livello di difficoltà` selezionato e mostra un messaggio che comunica al giocatore quale livello di difficoltà è stato selezionato.\n",
    "3. Genera un **numero intero casuale con tante cifre qanto è il livello di difficoltà**. Ad esempio se livello è 1, il numero sarà scelto a casa tra `0` e `9`, se il livello è 2, tra `10` e `99` e così via. Attenzione a **non mostrare il numer generato al giocatore** (questo è proprio il numero da indovinare).\n",
    "4. Il programma deve gestire correttamente il caso in cui l'input del giocatore non sia un numero oppure sia un numero diverso da 1,2,...,5. (`int(s)` genera un eccezione se `s` non è un numero (vedi esempio sotto).\n",
    "5. **Opzionale** Per indicare il livello di difficoltà, si può usare una stringa: `1 -> Pivello`, `2 -> Principiante`, ... , `5 -> Gran maestro`. Un suggerimento per fare in modo semplice questo è creare una `list` con 5 stringhe ed usare livello di difficoltà per scegliere la stringa associata.\n",
    "\n",
    "L'output di questa parte sarà simile ha quello mostrato sotto.\n",
    "```\n",
    "   Seleziona il livello di difficoltà per 'DaKing': 1\n",
    "   Livello selezionato: Pivello\n",
    "```"
   ]
  },
  {
   "cell_type": "code",
   "execution_count": 3,
   "id": "ea53b03c-2d10-4f93-9337-7b22828c416f",
   "metadata": {},
   "outputs": [
    {
     "ename": "ValueError",
     "evalue": "invalid literal for int() with base 10: 'Ciao'",
     "output_type": "error",
     "traceback": [
      "\u001b[0;31m---------------------------------------------------------------------------\u001b[0m",
      "\u001b[0;31mValueError\u001b[0m                                Traceback (most recent call last)",
      "\u001b[0;32m/tmp/ipykernel_116/1251447285.py\u001b[0m in \u001b[0;36m<module>\u001b[0;34m\u001b[0m\n\u001b[1;32m      1\u001b[0m \u001b[0;31m# Esempio 1 di eccezione di int(s)\u001b[0m\u001b[0;34m\u001b[0m\u001b[0;34m\u001b[0m\u001b[0m\n\u001b[1;32m      2\u001b[0m \u001b[0ms\u001b[0m \u001b[0;34m=\u001b[0m \u001b[0;34m\"Ciao\"\u001b[0m\u001b[0;34m\u001b[0m\u001b[0;34m\u001b[0m\u001b[0m\n\u001b[0;32m----> 3\u001b[0;31m \u001b[0mprint\u001b[0m\u001b[0;34m(\u001b[0m\u001b[0mint\u001b[0m\u001b[0;34m(\u001b[0m\u001b[0ms\u001b[0m\u001b[0;34m)\u001b[0m\u001b[0;34m)\u001b[0m\u001b[0;34m\u001b[0m\u001b[0;34m\u001b[0m\u001b[0m\n\u001b[0m",
      "\u001b[0;31mValueError\u001b[0m: invalid literal for int() with base 10: 'Ciao'"
     ]
    }
   ],
   "source": [
    "# Esempio 1 di eccezione di int(s)\n",
    "s = \"Ciao\"\n",
    "print(int(s))"
   ]
  }
 ],
 "metadata": {
  "kernelspec": {
   "display_name": "Python 3 (ipykernel)",
   "language": "python",
   "name": "python3"
  },
  "language_info": {
   "codemirror_mode": {
    "name": "ipython",
    "version": 3
   },
   "file_extension": ".py",
   "mimetype": "text/x-python",
   "name": "python",
   "nbconvert_exporter": "python",
   "pygments_lexer": "ipython3",
   "version": "3.10.1"
  }
 },
 "nbformat": 4,
 "nbformat_minor": 5
}
