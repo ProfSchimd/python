{
 "cells": [
  {
   "cell_type": "markdown",
   "id": "5f829fb4-0b53-463d-9a33-4b7745d4dafe",
   "metadata": {},
   "source": [
    "# Python - Lezione 1: Primi passi\n"
   ]
  },
  {
   "cell_type": "markdown",
   "id": "9918d72d-0672-403f-a969-f3498363dfc8",
   "metadata": {},
   "source": [
    "## Input e Output"
   ]
  },
  {
   "cell_type": "code",
   "execution_count": 13,
   "id": "79a171e8-aded-4109-87ad-962f3e9d3ef6",
   "metadata": {},
   "outputs": [
    {
     "name": "stdout",
     "output_type": "stream",
     "text": [
      "Welcome to iCiphermind\n"
     ]
    },
    {
     "name": "stdin",
     "output_type": "stream",
     "text": [
      "What's your name?  Kevin\n"
     ]
    },
    {
     "name": "stdout",
     "output_type": "stream",
     "text": [
      "Hi Kevin!\n"
     ]
    }
   ],
   "source": [
    "print(\"Welcome to iCiphermind\") # comment!\n",
    "name = input(\"What's your name? \")\n",
    "print(\"Hi \" + name + \"!\")\n",
    "# This is a comment! Python has only line comment"
   ]
  },
  {
   "cell_type": "markdown",
   "id": "46cbc7bd-450c-4633-8e86-71be9420c5fb",
   "metadata": {},
   "source": [
    "## Variabili\n",
    "Python assegna ad una variabile il tipo in base all'**inizializzazione**"
   ]
  },
  {
   "cell_type": "code",
   "execution_count": 11,
   "id": "f113b7e3-0cd6-4707-a4a6-03982945868b",
   "metadata": {},
   "outputs": [],
   "source": [
    "i = 0"
   ]
  },
  {
   "cell_type": "markdown",
   "id": "bf459f25-ceeb-49c5-ab61-289f166b6413",
   "metadata": {},
   "source": [
    "Quindi l'inizializzazione è **obbligatoria**"
   ]
  },
  {
   "cell_type": "code",
   "execution_count": 18,
   "id": "3b04bc3a-6b0e-4de0-9b11-d38ffd92a25c",
   "metadata": {},
   "outputs": [],
   "source": [
    "typeInt = 100\n",
    "typeFloat = 100.0\n",
    "typeString = \"String 1\"\n",
    "typeString2 = 'String 2\\nAnother row'"
   ]
  },
  {
   "cell_type": "code",
   "execution_count": 23,
   "id": "a98412db-3a8e-4aa0-80f6-0aa012c33125",
   "metadata": {},
   "outputs": [
    {
     "name": "stdout",
     "output_type": "stream",
     "text": [
      "223\n",
      "223.0\n",
      "33.333333333333336\n",
      "33\n"
     ]
    }
   ],
   "source": [
    "print(typeInt + 123)\n",
    "print(typeFloat + 123)\n",
    "summed = typeInt + typeFloat\n",
    "print(typeInt / 3)\n",
    "print(typeInt // 3)"
   ]
  },
  {
   "cell_type": "markdown",
   "id": "ca11abd4-4b89-4fb5-a413-6851fd567331",
   "metadata": {},
   "source": [
    "## Condizione e cicli\n",
    "### ``if``"
   ]
  },
  {
   "cell_type": "code",
   "execution_count": null,
   "id": "ad39f46a-1546-456f-8256-7698bdda7ace",
   "metadata": {},
   "outputs": [],
   "source": []
  },
  {
   "cell_type": "markdown",
   "id": "3471fa66-540e-41b3-9243-9d4790e143a4",
   "metadata": {},
   "source": [
    "### ``while``"
   ]
  },
  {
   "cell_type": "code",
   "execution_count": null,
   "id": "d4625b02-842b-4ee3-a65a-266d6040a3c4",
   "metadata": {},
   "outputs": [],
   "source": []
  },
  {
   "cell_type": "markdown",
   "id": "3a57727b-044c-446d-986b-d01d02625884",
   "metadata": {},
   "source": [
    "### ``for``"
   ]
  },
  {
   "cell_type": "code",
   "execution_count": null,
   "id": "a6f2981d-1ce0-4f9c-b386-a9aa60f97e8e",
   "metadata": {},
   "outputs": [],
   "source": []
  },
  {
   "cell_type": "markdown",
   "id": "e460fe78-5857-43a3-8ca8-e05ea5538201",
   "metadata": {},
   "source": [
    "## Funzioni"
   ]
  },
  {
   "cell_type": "code",
   "execution_count": null,
   "id": "dc32662f-666e-4211-a400-022f760ea61b",
   "metadata": {},
   "outputs": [],
   "source": []
  },
  {
   "cell_type": "markdown",
   "id": "666deecf-d2a2-479b-955e-bb273ae919dc",
   "metadata": {},
   "source": [
    "# Progetto **Mastermind**\n",
    "## Utili cose per il progetto *Mastermind*\n",
    "### Convertire in numero"
   ]
  },
  {
   "cell_type": "code",
   "execution_count": null,
   "id": "eb2d49dd-d49e-4e99-9e52-85e2edfea613",
   "metadata": {},
   "outputs": [],
   "source": []
  },
  {
   "cell_type": "markdown",
   "id": "8b4ec0d6-aaf0-4d9d-9165-710b8f640b41",
   "metadata": {},
   "source": [
    "### Generare numeri casuali"
   ]
  },
  {
   "cell_type": "code",
   "execution_count": null,
   "id": "74a0e1c6-609f-4696-a0fd-2673c098ffee",
   "metadata": {},
   "outputs": [],
   "source": []
  }
 ],
 "metadata": {
  "kernelspec": {
   "display_name": "Python 3 (ipykernel)",
   "language": "python",
   "name": "python3"
  },
  "language_info": {
   "codemirror_mode": {
    "name": "ipython",
    "version": 3
   },
   "file_extension": ".py",
   "mimetype": "text/x-python",
   "name": "python",
   "nbconvert_exporter": "python",
   "pygments_lexer": "ipython3",
   "version": "3.10.1"
  }
 },
 "nbformat": 4,
 "nbformat_minor": 5
}
