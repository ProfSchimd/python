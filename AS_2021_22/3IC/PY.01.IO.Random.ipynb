{
 "cells": [
  {
   "cell_type": "markdown",
   "id": "5f829fb4-0b53-463d-9a33-4b7745d4dafe",
   "metadata": {},
   "source": [
    "# Python - Lezione 1: Input Output (I/O)\n"
   ]
  },
  {
   "cell_type": "code",
   "execution_count": null,
   "id": "79a171e8-aded-4109-87ad-962f3e9d3ef6",
   "metadata": {},
   "outputs": [],
   "source": []
  },
  {
   "cell_type": "code",
   "execution_count": null,
   "id": "eb2d49dd-d49e-4e99-9e52-85e2edfea613",
   "metadata": {},
   "outputs": [],
   "source": []
  },
  {
   "cell_type": "markdown",
   "id": "8b4ec0d6-aaf0-4d9d-9165-710b8f640b41",
   "metadata": {},
   "source": [
    "## Generare numeri casuali"
   ]
  },
  {
   "cell_type": "code",
   "execution_count": null,
   "id": "74a0e1c6-609f-4696-a0fd-2673c098ffee",
   "metadata": {},
   "outputs": [],
   "source": []
  }
 ],
 "metadata": {
  "kernelspec": {
   "display_name": "Python 3 (ipykernel)",
   "language": "python",
   "name": "python3"
  },
  "language_info": {
   "codemirror_mode": {
    "name": "ipython",
    "version": 3
   },
   "file_extension": ".py",
   "mimetype": "text/x-python",
   "name": "python",
   "nbconvert_exporter": "python",
   "pygments_lexer": "ipython3",
   "version": "3.10.1"
  }
 },
 "nbformat": 4,
 "nbformat_minor": 5
}
