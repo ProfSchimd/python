{
 "cells": [
  {
   "cell_type": "markdown",
   "id": "096ad820-4dde-4454-abb0-25435728b7e0",
   "metadata": {},
   "source": [
    "# Libreria `pandas`\n",
    "\n",
    "* La scelta più indicata per l'analisi dei dati\n",
    "* Basata su `numpy`\n",
    "* Compatibile con moltissime altre librerie standard: `matplotlib`, `sklearn`, `seabron`\n",
    "* Estremamente versatile"
   ]
  },
  {
   "cell_type": "code",
   "execution_count": null,
   "id": "f717a199-6d6d-468d-aff9-ec77b5c794fd",
   "metadata": {},
   "outputs": [],
   "source": [
    "import numpy as np\n",
    "import pandas as pd\n"
   ]
  },
  {
   "cell_type": "markdown",
   "id": "af1d4da2-414e-46b7-b4a0-a93faa7e6750",
   "metadata": {},
   "source": [
    "## Breve digression: dataset in `seaborn`\n",
    "\n",
    "Inutile dire che la quantità di dati dis ponibile è pressoché infinita, a volte però ci basta qualcosa per fare delle brevi lezioni o spiegazioni (possibilmente un bel dataset ripulito di tutte le schifezze)."
   ]
  },
  {
   "cell_type": "code",
   "execution_count": null,
   "id": "943e23a6-a2db-4120-93d9-c5fb5cb31811",
   "metadata": {},
   "outputs": [],
   "source": [
    "import seaborn as sns\n",
    "sns.set()\n",
    "df = sns.load_dataset('iris') # iris è uno dei dataset disponibili, vedi https://github.com/mwaskom/seaborn-data\n",
    "sns.pairplot(df, hue=\"species\") # ..."
   ]
  },
  {
   "cell_type": "markdown",
   "id": "cfc73e8b-63d3-4612-aed5-2627d52637ad",
   "metadata": {},
   "source": [
    "## L'oggetto `Series`\n",
    "L'oggetto serie rappresenta una **serie statistica**:\n",
    "\n",
    "* osservazioni e\n",
    "* **indice**"
   ]
  },
  {
   "cell_type": "code",
   "execution_count": null,
   "id": "a4eb0e9c-c6ac-4eeb-bc35-3300c352e639",
   "metadata": {},
   "outputs": [],
   "source": [
    "# Esempio giocattolo\n",
    "n = 100\n",
    "indice = np.arange(n)\n",
    "data = np.random.randn(n)\n",
    "# Costruttore 'Series'\n",
    "\n"
   ]
  },
  {
   "cell_type": "code",
   "execution_count": null,
   "id": "030d3484-df88-4ec0-a038-301299797463",
   "metadata": {},
   "outputs": [],
   "source": [
    "# l'indicizzazione delle Series è simile a numpy...\n",
    "\n",
    "# ...consiglio però di usare iloc (vedremo dopo)"
   ]
  },
  {
   "cell_type": "code",
   "execution_count": null,
   "id": "a52440b5-9c59-4abd-8c2f-41be73716a2f",
   "metadata": {},
   "outputs": [],
   "source": [
    "# Statistica descrittiva"
   ]
  },
  {
   "cell_type": "markdown",
   "id": "47175a34-78e9-4b65-8c50-9c947a260e5c",
   "metadata": {},
   "source": [
    "## L'oggetto `DataFrame`"
   ]
  },
  {
   "cell_type": "code",
   "execution_count": null,
   "id": "3635075e-4625-4877-bbb2-7e156ed67c5e",
   "metadata": {},
   "outputs": [],
   "source": [
    "# Crezione"
   ]
  },
  {
   "cell_type": "code",
   "execution_count": null,
   "id": "a21fdc38-68d5-43f3-ac05-d4058f711d95",
   "metadata": {},
   "outputs": [],
   "source": [
    "# Indicizzazione\n",
    "\n",
    "# colonne\n",
    "\n",
    "# righe"
   ]
  },
  {
   "cell_type": "code",
   "execution_count": null,
   "id": "61b34e02-dea1-4183-8bcc-b3045eb1c771",
   "metadata": {},
   "outputs": [],
   "source": [
    "# Statistica descrittiva\n",
    "\n",
    "# describe\n"
   ]
  },
  {
   "cell_type": "markdown",
   "id": "5dc0d698-87f8-4ad2-b184-81dec5e58f46",
   "metadata": {},
   "source": [
    "### `DataFrame` come le tabelle di un DB?"
   ]
  },
  {
   "cell_type": "code",
   "execution_count": null,
   "id": "17e0ba28-e2b9-4540-b7ee-b388227c9bd6",
   "metadata": {},
   "outputs": [],
   "source": [
    "# Merge"
   ]
  },
  {
   "cell_type": "code",
   "execution_count": null,
   "id": "0b88a05c-c8b8-4dbb-a97a-15f0e7fc2840",
   "metadata": {},
   "outputs": [],
   "source": [
    "# Group by"
   ]
  },
  {
   "cell_type": "markdown",
   "id": "191427fe-01fe-47ee-a781-98500afba55e",
   "metadata": {},
   "source": [
    "**Attenzione** un `DataFrame` non è come un foglio di calcolo:\n",
    "\n",
    "* ogni colonna di un `DataFrame` più essere di un solo tipo (solo `int`, solo `str`, ...)\n",
    "* le \"celle\" di un `DataFrame` non possono contenere formule\n",
    "* l'indicizzazione alla Excel non è usata (si può comunque simulare utilizzando numeri come indice di riga e stringhe come indice di colonne)\n",
    "\n",
    "Questo era un assaggino di `pandas` cosa c'è\n",
    "\n",
    "* Serie temporali (qualcosina lo vedrete nel laboratorio)\n",
    "* Indici gerarchici\n",
    "* Pivot table\n",
    "* Manipolazione stringhe\n",
    "* I/O in vari formati (csv, JSON, ...)\n",
    "* ..."
   ]
  },
  {
   "cell_type": "markdown",
   "id": "21c8ef79-eada-46a7-989f-c0a4d2d39d7b",
   "metadata": {},
   "source": [
    "## Riferimenti\n",
    "\n",
    "* [Pandas](https://pandas.pydata.org/)\n",
    "* [Seaborn](https://seaborn.pydata.org/)\n",
    "* [Kaggle](https://www.kaggle.com/)"
   ]
  }
 ],
 "metadata": {
  "kernelspec": {
   "display_name": "Python 3 (ipykernel)",
   "language": "python",
   "name": "python3"
  },
  "language_info": {
   "codemirror_mode": {
    "name": "ipython",
    "version": 3
   },
   "file_extension": ".py",
   "mimetype": "text/x-python",
   "name": "python",
   "nbconvert_exporter": "python",
   "pygments_lexer": "ipython3",
   "version": "3.10.1"
  }
 },
 "nbformat": 4,
 "nbformat_minor": 5
}
