{
 "cells": [
  {
   "cell_type": "markdown",
   "id": "9f3a3acd-0130-4358-890a-5d3113549ca1",
   "metadata": {},
   "source": [
    "# Basi del linguaggio Python (review)\n",
    "# Condizione e Cicli "
   ]
  },
  {
   "cell_type": "code",
   "execution_count": null,
   "id": "b78d6e18-175b-4cff-ab8a-9a3d82842869",
   "metadata": {},
   "outputs": [],
   "source": [
    "# if\n",
    "\n",
    "# if else\n",
    "\n",
    "# elif\n",
    "\n",
    "# while\n",
    "\n",
    "# for"
   ]
  },
  {
   "cell_type": "markdown",
   "id": "153abd05-0a39-458f-af3f-1082fa35a16d",
   "metadata": {},
   "source": [
    "# Funzioni"
   ]
  },
  {
   "cell_type": "code",
   "execution_count": null,
   "id": "35a863b2-e544-49b1-844c-0b2525881bdd",
   "metadata": {},
   "outputs": [],
   "source": [
    "# funzione\n",
    "\n",
    "# ritorno\n",
    "\n",
    "# parametri posizionali e nominali"
   ]
  },
  {
   "cell_type": "markdown",
   "id": "90efca03-b2ef-4395-9a3e-5f3f398550b2",
   "metadata": {},
   "source": [
    "# Strutture dati\n",
    "## Liste\n",
    "In Python non ci sono array. La struttura dati da usare al posto degli array è la **lista**.\n",
    "\n",
    "* Una lista è un contenitore di oggetti, **anche di tipo diverso**"
   ]
  },
  {
   "cell_type": "code",
   "execution_count": null,
   "id": "e97c4e8c-a6ca-45f1-8f0e-da45aacbf339",
   "metadata": {},
   "outputs": [],
   "source": [
    "# list literal\n",
    "listaOmogenea = [1,2,3]\n",
    "print(listaOmogenea)\n",
    "listaEterogenea = [1, \"2\", 3.0]\n",
    "print(listaEterogenea)\n",
    "\n",
    "# list 'constructor'\n",
    "\n",
    "\n",
    "# list conversion"
   ]
  },
  {
   "cell_type": "markdown",
   "id": "1447e706-03f0-472d-91fc-019c38c03889",
   "metadata": {},
   "source": [
    "Si possono eliminare elementi da una lista usando `del`"
   ]
  },
  {
   "cell_type": "code",
   "execution_count": null,
   "id": "723661bd-57ce-45a3-8c1e-0517a3c884d6",
   "metadata": {},
   "outputs": [],
   "source": [
    "a = list(range(1,10,2))\n",
    "print(a)\n",
    "del a[1]\n",
    "print(a)"
   ]
  },
  {
   "cell_type": "markdown",
   "id": "d394de0e-461c-442c-85f8-b8389c7a6160",
   "metadata": {},
   "source": [
    "### Funzioni utili\n",
    "Python ha sia funzioni *built-in* che si applicazione alle liste, sia metodi dell'oggetto `list`. Tuttavia queste sono funzioni che si applicano a tutti gli **iterabili**"
   ]
  },
  {
   "cell_type": "code",
   "execution_count": null,
   "id": "3910e5fc-9f34-4e32-adf4-fd9221d15e56",
   "metadata": {},
   "outputs": [],
   "source": [
    "# lunghezza\n",
    "\n",
    "# ordinamento\n",
    "\n",
    "# inverso\n",
    "\n",
    "# all e any"
   ]
  },
  {
   "cell_type": "code",
   "execution_count": null,
   "id": "5547f0ee-2f67-4889-9910-86fc9cb4ad48",
   "metadata": {},
   "outputs": [],
   "source": [
    "# append\n",
    "a = [1, 2]\n",
    "b = [3, 4]\n",
    "a.append(b)\n",
    "print(a) # Ooops!"
   ]
  },
  {
   "cell_type": "markdown",
   "id": "eaaf77d4-9be5-4c37-ae3e-e3d248c151cc",
   "metadata": {},
   "source": [
    "### List comprehension"
   ]
  },
  {
   "cell_type": "code",
   "execution_count": null,
   "id": "cb0a3d1c-dec2-4d29-8bb4-9437b24543e2",
   "metadata": {},
   "outputs": [],
   "source": [
    "# \"semplice\"\n",
    "\n",
    "# con condizione\n",
    "\n",
    "# complicata (vale la pena?!)"
   ]
  },
  {
   "cell_type": "markdown",
   "id": "27dfb072-b131-4b75-ba1f-b10f520958e9",
   "metadata": {},
   "source": [
    "Due parole sulla *list comprehension*\n",
    "\n",
    "* È indubbiamente un costrutto semanticamente ricco, quindi difficile\n",
    "* Va usato sicuramente (e forse anche spiegato agli studenti), ma **non abusato**.\n",
    "* Quando si usa `numpy` (vedi sotto) o `pandas` si tende non usarlo poichè con la *ridefinizione degli operatori* si preferiscono **operazioni vettoriali**"
   ]
  },
  {
   "cell_type": "markdown",
   "id": "126bdf24-cf83-443b-835f-a687366cbd66",
   "metadata": {},
   "source": [
    "## Tuple"
   ]
  },
  {
   "cell_type": "code",
   "execution_count": null,
   "id": "3d6a3271-fd48-49cf-ae36-d26c353f7f54",
   "metadata": {},
   "outputs": [],
   "source": []
  },
  {
   "cell_type": "markdown",
   "id": "3df02378-79a6-4b61-b64b-747a8eb9acb6",
   "metadata": {},
   "source": [
    "### La funzione `zip`"
   ]
  },
  {
   "cell_type": "code",
   "execution_count": null,
   "id": "8c8d1060-119e-439b-8280-a6bc3fdcda6f",
   "metadata": {},
   "outputs": [],
   "source": []
  },
  {
   "cell_type": "markdown",
   "id": "656da6b3-ddd9-4800-bc9c-d6179d98bf0d",
   "metadata": {},
   "source": [
    "## Dizionari"
   ]
  },
  {
   "cell_type": "code",
   "execution_count": null,
   "id": "07446f78-d7ab-4ad7-b70f-d0ec10a7632d",
   "metadata": {},
   "outputs": [],
   "source": []
  },
  {
   "cell_type": "markdown",
   "id": "474dd530-9e83-4f6b-beff-e61a3fbe58d6",
   "metadata": {},
   "source": [
    "## Set"
   ]
  },
  {
   "cell_type": "markdown",
   "id": "aa04d70a-6122-4f6c-b069-be26493efcee",
   "metadata": {},
   "source": [
    "## Array con `numpy`"
   ]
  },
  {
   "cell_type": "markdown",
   "id": "b8417647-b240-427d-a03b-3691ac6830aa",
   "metadata": {},
   "source": []
  },
  {
   "cell_type": "code",
   "execution_count": null,
   "id": "bf39240c-766f-4043-8126-a08656bba371",
   "metadata": {},
   "outputs": [],
   "source": []
  },
  {
   "cell_type": "code",
   "execution_count": null,
   "id": "ab10b2cb-6443-42be-a320-5f3e8b06f932",
   "metadata": {},
   "outputs": [],
   "source": []
  },
  {
   "cell_type": "markdown",
   "id": "e5acc2f4-adb8-4e6d-9d1b-684e12d4b811",
   "metadata": {},
   "source": [
    "# Riferimenti\n",
    "* [Strutture dati Python][1]\n",
    "* [Funzioni *built-in* Python][2]\n",
    "\n",
    "[1]: https://docs.python.org/3/tutorial/datastructures.html\n",
    "[2]: https://docs.python.org/3/library/functions.html"
   ]
  },
  {
   "cell_type": "code",
   "execution_count": null,
   "id": "961b4582-68b6-4c5a-a8c4-f29b59c46fa3",
   "metadata": {},
   "outputs": [],
   "source": []
  }
 ],
 "metadata": {
  "kernelspec": {
   "display_name": "Python 3 (ipykernel)",
   "language": "python",
   "name": "python3"
  },
  "language_info": {
   "codemirror_mode": {
    "name": "ipython",
    "version": 3
   },
   "file_extension": ".py",
   "mimetype": "text/x-python",
   "name": "python",
   "nbconvert_exporter": "python",
   "pygments_lexer": "ipython3",
   "version": "3.10.1"
  }
 },
 "nbformat": 4,
 "nbformat_minor": 5
}
