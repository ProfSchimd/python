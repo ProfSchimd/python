{
 "cells": [
  {
   "cell_type": "markdown",
   "id": "9f3a3acd-0130-4358-890a-5d3113549ca1",
   "metadata": {},
   "source": [
    "# Basi del linguaggio Python (review)\n",
    "# Condizione e Cicli "
   ]
  },
  {
   "cell_type": "code",
   "execution_count": null,
   "id": "b78d6e18-175b-4cff-ab8a-9a3d82842869",
   "metadata": {},
   "outputs": [],
   "source": [
    "# if\n",
    "\n",
    "# if else\n",
    "\n",
    "# elif\n",
    "\n",
    "# while\n",
    "\n",
    "# for"
   ]
  },
  {
   "cell_type": "markdown",
   "id": "153abd05-0a39-458f-af3f-1082fa35a16d",
   "metadata": {},
   "source": [
    "# Funzioni"
   ]
  },
  {
   "cell_type": "code",
   "execution_count": null,
   "id": "35a863b2-e544-49b1-844c-0b2525881bdd",
   "metadata": {},
   "outputs": [],
   "source": [
    "# funzione\n",
    "\n",
    "# ritorno\n",
    "\n",
    "# parametri posizionali e nominali"
   ]
  },
  {
   "cell_type": "markdown",
   "id": "90efca03-b2ef-4395-9a3e-5f3f398550b2",
   "metadata": {},
   "source": [
    "# Strutture dati\n",
    "## Liste\n",
    "In Python non ci sono array. La struttura dati da usare al posto degli array è la **lista**.\n",
    "\n",
    "* Una lista è un contenitore di oggetti, **anche di tipo diverso**"
   ]
  },
  {
   "cell_type": "code",
   "execution_count": null,
   "id": "e97c4e8c-a6ca-45f1-8f0e-da45aacbf339",
   "metadata": {},
   "outputs": [],
   "source": [
    "# list literal\n",
    "listaOmogenea = [1,2,3]\n",
    "print(listaOmogenea)\n",
    "listaEterogenea = [1, \"2\", 3.0]\n",
    "print(listaEterogenea)\n",
    "\n",
    "# list 'constructor'\n",
    "\n",
    "\n",
    "# list conversion"
   ]
  },
  {
   "cell_type": "markdown",
   "id": "cee00199-c10e-446a-8d21-9ea395deb2fd",
   "metadata": {},
   "source": [
    "## Indicizzazione e stride"
   ]
  },
  {
   "cell_type": "code",
   "execution_count": null,
   "id": "390f852e-64b0-4bd3-8630-f52f9a3b5324",
   "metadata": {},
   "outputs": [],
   "source": [
    "# indici (C-like)\n",
    "\n",
    "# indici 'inverso'\n",
    "\n",
    "# stride"
   ]
  },
  {
   "cell_type": "markdown",
   "id": "d394de0e-461c-442c-85f8-b8389c7a6160",
   "metadata": {},
   "source": [
    "### Funzioni utili\n",
    "Python ha sia funzioni *built-in* che si applicazione alle liste, sia metodi dell'oggetto `list`. Tuttavia (qusi tutte) queste sono funzioni che si applicano a tutti gli **iterabili**"
   ]
  },
  {
   "cell_type": "code",
   "execution_count": null,
   "id": "3910e5fc-9f34-4e32-adf4-fd9221d15e56",
   "metadata": {},
   "outputs": [],
   "source": [
    "# lunghezza\n",
    "\n",
    "# ordinamento\n",
    "\n",
    "# all e any"
   ]
  },
  {
   "cell_type": "code",
   "execution_count": null,
   "id": "5547f0ee-2f67-4889-9910-86fc9cb4ad48",
   "metadata": {},
   "outputs": [],
   "source": [
    "# append\n",
    "a = [1, 2]\n",
    "b = [3, 4]\n",
    "a.append(b)\n",
    "print(a) # Ooops!"
   ]
  },
  {
   "cell_type": "markdown",
   "id": "1447e706-03f0-472d-91fc-019c38c03889",
   "metadata": {},
   "source": [
    "Si possono eliminare elementi da una lista usando `del`"
   ]
  },
  {
   "cell_type": "code",
   "execution_count": null,
   "id": "723661bd-57ce-45a3-8c1e-0517a3c884d6",
   "metadata": {},
   "outputs": [],
   "source": [
    "a = list(range(1,10,2))\n",
    "print(a)\n",
    "del a[1]\n",
    "print(a)"
   ]
  },
  {
   "cell_type": "markdown",
   "id": "15c0ee89-3b32-4b49-a848-166f65dda8f6",
   "metadata": {},
   "source": [
    "### Operatore `*`\n",
    "Quando applicato alle stringhe l'operatore *moltiplicazione* crea cope della lista"
   ]
  },
  {
   "cell_type": "code",
   "execution_count": null,
   "id": "af2e2b51-5824-42e4-b500-8d29c48b13fe",
   "metadata": {},
   "outputs": [],
   "source": [
    "[1]*3\n",
    "[1,2]*4"
   ]
  },
  {
   "cell_type": "markdown",
   "id": "eaaf77d4-9be5-4c37-ae3e-e3d248c151cc",
   "metadata": {},
   "source": [
    "### List comprehension"
   ]
  },
  {
   "cell_type": "code",
   "execution_count": null,
   "id": "cb0a3d1c-dec2-4d29-8bb4-9437b24543e2",
   "metadata": {},
   "outputs": [],
   "source": [
    "# \"semplice\"\n",
    "\n",
    "# con condizione\n",
    "\n",
    "# complicata (vale la pena?!)"
   ]
  },
  {
   "cell_type": "markdown",
   "id": "27dfb072-b131-4b75-ba1f-b10f520958e9",
   "metadata": {},
   "source": [
    "Due parole sulla *list comprehension*\n",
    "\n",
    "* È indubbiamente un costrutto semanticamente ricco, quindi difficile\n",
    "* Va usato sicuramente (e forse anche spiegato agli studenti), ma **non abusato**.\n",
    "* Quando si usa `numpy` (vedi sotto) o `pandas` si tende ad evitarlo poichè con la *ridefinizione degli operatori* si preferiscono **operazioni vettoriali**"
   ]
  },
  {
   "cell_type": "markdown",
   "id": "126bdf24-cf83-443b-835f-a687366cbd66",
   "metadata": {},
   "source": [
    "## Tuple\n",
    "Le **tuple** sono elementi separati da virgola, sono simili alle lista, **ma sono immutabili** (no `append`, no `del`)"
   ]
  },
  {
   "cell_type": "code",
   "execution_count": null,
   "id": "3d6a3271-fd48-49cf-ae36-d26c353f7f54",
   "metadata": {},
   "outputs": [],
   "source": [
    "# esempio\n"
   ]
  },
  {
   "cell_type": "markdown",
   "id": "3df02378-79a6-4b61-b64b-747a8eb9acb6",
   "metadata": {},
   "source": [
    "### La funzione `zip`\n",
    "Tra le tante funzioni Python molto utili, c'è la funzione `zip` che crea un \"merge\" intelligente di diversi iterabili. In pratica, si prende ogni elemento di ogni iterabile con indici corrispondenti e si crea una tupla corrispondente, queste tuple vengono messe in un *iterabile*."
   ]
  },
  {
   "cell_type": "code",
   "execution_count": null,
   "id": "8c8d1060-119e-439b-8280-a6bc3fdcda6f",
   "metadata": {},
   "outputs": [],
   "source": [
    "s = [\"A\", \"B\", \"C\"]\n",
    "n = [1, 2, 3]\n",
    "p = [\"*\", \"-\", \"+\"]\n",
    "for item in zip(s,n,p):\n",
    "    print(item)"
   ]
  },
  {
   "cell_type": "markdown",
   "id": "a7bc8ad6-937a-4f48-ab62-880eb5c71b07",
   "metadata": {},
   "source": [
    "**Argomento avanzato** La funzione \"inversa\" di `zip` si può ottenere con l'operatore `*` e `zip`"
   ]
  },
  {
   "cell_type": "code",
   "execution_count": null,
   "id": "c53d861d-a201-44f8-9366-c3f581e82cd8",
   "metadata": {},
   "outputs": [],
   "source": [
    "x = [1, 2, 3]\n",
    "y = [4, 5, 6]\n",
    "print(list(zip(x, y)))\n",
    "x2, y2 = zip(*zip(x, y))\n",
    "print(x2)\n",
    "print(y2)"
   ]
  },
  {
   "cell_type": "markdown",
   "id": "656da6b3-ddd9-4800-bc9c-d6179d98bf0d",
   "metadata": {},
   "source": [
    "## Dizionari"
   ]
  },
  {
   "cell_type": "code",
   "execution_count": null,
   "id": "2fed5191-df69-419b-9c6b-053f6055cec6",
   "metadata": {},
   "outputs": [],
   "source": [
    "# Sintassi\n",
    "d = {\n",
    "    \"A\": 1,\n",
    "    \"B\": 2,\n",
    "}\n",
    "\n",
    "# Looping \n",
    "for k in d:\n",
    "    print(f\"Key {k}, Val {d[k]}\")\n",
    "print()\n",
    "# Looping v. 2\n",
    "for k, v in d.items():\n",
    "    print(f\"Key {k}, Val {v}\")"
   ]
  },
  {
   "cell_type": "code",
   "execution_count": null,
   "id": "07446f78-d7ab-4ad7-b70f-d0ec10a7632d",
   "metadata": {},
   "outputs": [],
   "source": []
  },
  {
   "cell_type": "markdown",
   "id": "474dd530-9e83-4f6b-beff-e61a3fbe58d6",
   "metadata": {},
   "source": [
    "## Set"
   ]
  },
  {
   "cell_type": "markdown",
   "id": "aa04d70a-6122-4f6c-b069-be26493efcee",
   "metadata": {},
   "source": [
    "## Array con `numpy`\n",
    "\n",
    "L'utilizzo di `numpy` merita un discorso a parte perché rappresenta un approcio maggiormente \"vetoriale\"."
   ]
  },
  {
   "cell_type": "code",
   "execution_count": null,
   "id": "a1d71c9a-f143-4626-a771-fa48437479e1",
   "metadata": {},
   "outputs": [],
   "source": [
    "import numpy as np\n",
    "n = np.arange(1,10)\n",
    "x = np.linspace(0,1,101)"
   ]
  },
  {
   "cell_type": "markdown",
   "id": "ed09e429-50aa-4d83-b8d7-5daec6053b66",
   "metadata": {},
   "source": [
    "## Operazioni vettoriali"
   ]
  },
  {
   "cell_type": "code",
   "execution_count": null,
   "id": "ca405e3f-55a1-430c-95b6-7b5200f38d38",
   "metadata": {},
   "outputs": [],
   "source": [
    "# somma\n",
    "\n",
    "# prodotto\n",
    "\n",
    "# funzioni"
   ]
  },
  {
   "cell_type": "markdown",
   "id": "c8c8d194-1ada-480e-b5a7-11a29a345ed9",
   "metadata": {},
   "source": [
    "### Il tipo `ndarray`\n",
    "Allora che di che tipo sono questi oggetti?"
   ]
  },
  {
   "cell_type": "code",
   "execution_count": null,
   "id": "43f4a49a-cae3-41a3-97af-e1e59b9dc13e",
   "metadata": {},
   "outputs": [],
   "source": [
    "print(type(a))\n",
    "print(type(x))"
   ]
  },
  {
   "cell_type": "markdown",
   "id": "76f2b461-6b04-414e-a1d2-6d211e1ebc34",
   "metadata": {},
   "source": [
    "Un `ndarray` è un tipo di **array multidimensionale**, non c'è purtroppo modo di andare a fondo, ma è importante sottolineare che **la quasi totalità degli algoritmi è compilato quindi estremamente efficiente** (cosa di solito non vera per funzioni Python interpretati)."
   ]
  },
  {
   "cell_type": "code",
   "execution_count": null,
   "id": "63b5bc6f-2566-403e-ba7c-ecaa6607cf35",
   "metadata": {},
   "outputs": [],
   "source": [
    "v = np.ndarray(shape=[2,3], dtype=int)\n",
    "print(v.shape)\n",
    "print(v)"
   ]
  },
  {
   "cell_type": "code",
   "execution_count": null,
   "id": "58f53734-b67a-444e-9655-22b789a3e32b",
   "metadata": {},
   "outputs": [],
   "source": [
    "d3 = np.ndarray(shape=[4,4,4], dtype=float)"
   ]
  },
  {
   "cell_type": "markdown",
   "id": "5a773093-bb74-4d52-aeea-3f07abe64eb3",
   "metadata": {},
   "source": [
    "### Stride con `ndarray`"
   ]
  },
  {
   "cell_type": "code",
   "execution_count": null,
   "id": "4d83fe30-680b-4534-ac4b-1fe2cb970c86",
   "metadata": {},
   "outputs": [],
   "source": [
    "A = np.asarray([[1,2,3],[4,5,6],[7,8,9]])"
   ]
  },
  {
   "cell_type": "code",
   "execution_count": null,
   "id": "e9b52c4f-d5f0-43ab-9cb1-a61dbeb155f7",
   "metadata": {},
   "outputs": [],
   "source": [
    "print(\"A -> \", A)\n",
    "print()\n",
    "print(\"diag(A) -> \", A.diagonal())\n",
    "print()\n",
    "print(\"A^T -> \", A.transpose())"
   ]
  },
  {
   "cell_type": "code",
   "execution_count": null,
   "id": "aaf76fa3-f08c-424c-8050-cca44e769b9f",
   "metadata": {},
   "outputs": [],
   "source": [
    "A*A # ??"
   ]
  },
  {
   "cell_type": "code",
   "execution_count": null,
   "id": "2cc2facd-100c-40a7-8b5a-804b04f6fcc4",
   "metadata": {},
   "outputs": [],
   "source": [
    "np.matmul(A,A)"
   ]
  },
  {
   "cell_type": "markdown",
   "id": "e5acc2f4-adb8-4e6d-9d1b-684e12d4b811",
   "metadata": {},
   "source": [
    "# Riferimenti\n",
    "* [Strutture dati Python][1]\n",
    "* [Funzioni *built-in* Python][2]\n",
    "* [ndarray][3]\n",
    "\n",
    "[1]: https://docs.python.org/3/tutorial/datastructures.html\n",
    "[2]: https://docs.python.org/3/library/functions.html\n",
    "[3]: https://numpy.org/doc/stable/reference/generated/numpy.ndarray.html"
   ]
  },
  {
   "cell_type": "code",
   "execution_count": null,
   "id": "049f296a-2111-48c3-ad10-3f5ce6232087",
   "metadata": {},
   "outputs": [],
   "source": []
  }
 ],
 "metadata": {
  "kernelspec": {
   "display_name": "Python 3 (ipykernel)",
   "language": "python",
   "name": "python3"
  },
  "language_info": {
   "codemirror_mode": {
    "name": "ipython",
    "version": 3
   },
   "file_extension": ".py",
   "mimetype": "text/x-python",
   "name": "python",
   "nbconvert_exporter": "python",
   "pygments_lexer": "ipython3",
   "version": "3.10.1"
  }
 },
 "nbformat": 4,
 "nbformat_minor": 5
}
