{
 "cells": [
  {
   "cell_type": "markdown",
   "id": "9f3a3acd-0130-4358-890a-5d3113549ca1",
   "metadata": {
    "id": "9f3a3acd-0130-4358-890a-5d3113549ca1"
   },
   "source": [
    "# Basi del linguaggio Python (review)\n",
    "# Condizione e Cicli "
   ]
  },
  {
   "cell_type": "code",
   "execution_count": 4,
   "id": "b78d6e18-175b-4cff-ab8a-9a3d82842869",
   "metadata": {
    "colab": {
     "base_uri": "https://localhost:8080/"
    },
    "id": "b78d6e18-175b-4cff-ab8a-9a3d82842869",
    "outputId": "0c818797-c0db-44f2-fe92-7c64e541c744"
   },
   "outputs": [
    {
     "name": "stdout",
     "output_type": "stream",
     "text": [
      "0 e' nullo\n",
      "zero\n",
      "10\n",
      "9\n",
      "8\n",
      "7\n",
      "6\n",
      "5\n",
      "4\n",
      "3\n",
      "2\n",
      "1\n"
     ]
    }
   ],
   "source": [
    "i = 0\n",
    "# if\n",
    "if (i == 0):\n",
    "    print(f\"{i} e' nullo\")\n",
    "\n",
    "# if else\n",
    "if (i == 0 and i < 0):\n",
    "    print(\"{0} e' nullo negativo\".format(i))\n",
    "\n",
    "# elif\n",
    "if (i == 0):\n",
    "    print(\"zero\")\n",
    "elif (i < 0):\n",
    "    print(\"negativo\")\n",
    "else:\n",
    "    print(\"positivo\")\n",
    "\n",
    "# while\n",
    "n = 10\n",
    "while (n>0):\n",
    "    print(\"{}\".format(n))\n",
    "      n -= 1"
   ]
  },
  {
   "cell_type": "code",
   "execution_count": 5,
   "id": "PKRZLyqwgoRw",
   "metadata": {
    "colab": {
     "base_uri": "https://localhost:8080/"
    },
    "id": "PKRZLyqwgoRw",
    "outputId": "99aba58d-5c4d-4018-aa02-ce9e18d12b42"
   },
   "outputs": [
    {
     "name": "stdout",
     "output_type": "stream",
     "text": [
      "0\n",
      "1\n",
      "2\n",
      "3\n",
      "4\n",
      "5\n",
      "6\n",
      "7\n",
      "8\n",
      "9\n"
     ]
    }
   ],
   "source": [
    "# for\n",
    "for i in range(10):\n",
    "    print(i)"
   ]
  },
  {
   "cell_type": "markdown",
   "id": "153abd05-0a39-458f-af3f-1082fa35a16d",
   "metadata": {
    "id": "153abd05-0a39-458f-af3f-1082fa35a16d"
   },
   "source": [
    "# Funzioni"
   ]
  },
  {
   "cell_type": "code",
   "execution_count": 13,
   "id": "35a863b2-e544-49b1-844c-0b2525881bdd",
   "metadata": {
    "colab": {
     "base_uri": "https://localhost:8080/"
    },
    "id": "35a863b2-e544-49b1-844c-0b2525881bdd",
    "outputId": "2900fd7b-b183-4cd4-aa23-0aee23ff4ef3"
   },
   "outputs": [
    {
     "name": "stdout",
     "output_type": "stream",
     "text": [
      "1\n",
      "2.23606797749979\n",
      "(1, 2.23606797749979)\n",
      "1\n",
      "1\n",
      "2.23606797749979\n",
      "2.0\n"
     ]
    }
   ],
   "source": [
    "import math\n",
    "# funzione\n",
    "def distanza(a, b):\n",
    "    return abs(a-b)\n",
    "\n",
    "def distanzaL2(a, b):\n",
    "    return math.sqrt(a**2 + b**2)\n",
    "\n",
    "print(distanza(1,2))\n",
    "print(distanzaL2(1,2))\n",
    "\n",
    "def distanze(a, b):\n",
    "    return distanza(a,b), distanzaL2(a,b)\n",
    "\n",
    "print(distanze(1, 2))\n",
    "dL1, _ = distanze(1, 2)\n",
    "print(dL1)\n",
    "\n",
    "# ritorno\n",
    "\n",
    "# parametri posizionali e nominali\n",
    "def distanze2(a=0, b=0, l=\"L1\"):\n",
    "    if (l == \"L1\"):\n",
    "        return distanza(a,b)\n",
    "    elif (l == \"L2\"):\n",
    "        return distanzaL2(a,b)\n",
    "    else:\n",
    "        return None\n",
    "\n",
    "print(distanze2(1, 2))\n",
    "print(distanze2(1, 2, \"L2\"))\n",
    "print(distanze2(b=2,l=\"L2\"))"
   ]
  },
  {
   "cell_type": "markdown",
   "id": "90efca03-b2ef-4395-9a3e-5f3f398550b2",
   "metadata": {
    "id": "90efca03-b2ef-4395-9a3e-5f3f398550b2"
   },
   "source": [
    "# Strutture dati\n",
    "## Liste\n",
    "In Python non ci sono array. La struttura dati da usare al posto degli array è la **lista**.\n",
    "\n",
    "* Una lista è un contenitore di oggetti, **anche di tipo diverso**"
   ]
  },
  {
   "cell_type": "code",
   "execution_count": 16,
   "id": "e97c4e8c-a6ca-45f1-8f0e-da45aacbf339",
   "metadata": {
    "colab": {
     "base_uri": "https://localhost:8080/"
    },
    "id": "e97c4e8c-a6ca-45f1-8f0e-da45aacbf339",
    "outputId": "02d4a08e-c71b-473b-c2af-d581cea80a8d"
   },
   "outputs": [
    {
     "name": "stdout",
     "output_type": "stream",
     "text": [
      "[1, 2, 3]\n",
      "[1, '2', 3.0]\n",
      "['Pippo', 2, 3]\n"
     ]
    }
   ],
   "source": [
    "# list literal\n",
    "listaOmogenea = [1,2,3]\n",
    "print(listaOmogenea)\n",
    "listaEterogenea = [1, \"2\", 3.0]\n",
    "print(listaEterogenea)\n",
    "\n",
    "listaOmogenea[0] = \"Pippo\"\n",
    "print(listaOmogenea)\n",
    "listaVuota = []\n"
   ]
  },
  {
   "cell_type": "code",
   "execution_count": 25,
   "id": "N1jbJrIlk29T",
   "metadata": {
    "colab": {
     "base_uri": "https://localhost:8080/"
    },
    "id": "N1jbJrIlk29T",
    "outputId": "7ca04ab0-d305-4d46-a9cb-6fe043e483cb"
   },
   "outputs": [
    {
     "name": "stdout",
     "output_type": "stream",
     "text": [
      "[0, 1, 2, 3, 4, 5, 6, 7, 8, 9]\n",
      "['a', '3', '1', '-1']\n"
     ]
    }
   ],
   "source": [
    "# list 'constructor'\n",
    "lista = list(range(10))\n",
    "print(lista)\n",
    "# list \"conversion\"\n",
    "ordinata = sorted([\"1\",\"3\",\"-1\", \"a\"], reverse=True)\n",
    "print(ordinata)"
   ]
  },
  {
   "cell_type": "markdown",
   "id": "d33jo9Jwlrc9",
   "metadata": {
    "id": "d33jo9Jwlrc9"
   },
   "source": [
    "### List comprehension"
   ]
  },
  {
   "cell_type": "code",
   "execution_count": 31,
   "id": "xMYZcQLSmDAT",
   "metadata": {
    "colab": {
     "base_uri": "https://localhost:8080/"
    },
    "id": "xMYZcQLSmDAT",
    "outputId": "3f16e99e-f757-46aa-9c93-b7c55c9628bd"
   },
   "outputs": [
    {
     "name": "stdout",
     "output_type": "stream",
     "text": [
      "[0, 1, 4, 9, 16, 25, 36, 49, 64, 81]\n",
      "[0, 4, 16, 36, 64]\n",
      "[1, 2, 3]\n"
     ]
    }
   ],
   "source": [
    "listaQuadrati = [i*i for i in range(10)]\n",
    "print(listaQuadrati)\n",
    "\n",
    "listaQuadPari = [i*i for i in range(10) if i % 2 == 0]\n",
    "print(listaQuadPari)\n",
    "\n",
    "lista = []\n",
    "for i in range(10):\n",
    "    if (i % 2 == 0):\n",
    "        lista.append(i*i)\n",
    "\n",
    "l = [\"1\", \"2\", \"3\"]\n",
    "ll = [int(item) for item in l]\n",
    "print(ll)"
   ]
  },
  {
   "cell_type": "markdown",
   "id": "_oftJfWus6-Y",
   "metadata": {
    "id": "_oftJfWus6-Y"
   },
   "source": [
    "Due parole sulla *list comprehension*\n",
    "\n",
    "* È indubbiamente un costrutto semanticamente ricco, quindi difficile\n",
    "* Va usato sicuramente (e forse anche spiegato agli studenti), ma **non abusato**.\n",
    "* Quando si usa `numpy` (vedi sotto) o `pandas` si tende ad evitarlo poichè con la *ridefinizione degli operatori* si preferiscono **operazioni vettoriali**"
   ]
  },
  {
   "cell_type": "markdown",
   "id": "cee00199-c10e-446a-8d21-9ea395deb2fd",
   "metadata": {
    "id": "cee00199-c10e-446a-8d21-9ea395deb2fd"
   },
   "source": [
    "## Indicizzazione e stride"
   ]
  },
  {
   "cell_type": "code",
   "execution_count": 45,
   "id": "390f852e-64b0-4bd3-8630-f52f9a3b5324",
   "metadata": {
    "colab": {
     "base_uri": "https://localhost:8080/"
    },
    "id": "390f852e-64b0-4bd3-8630-f52f9a3b5324",
    "outputId": "5fe4b70c-2f85-4322-b041-14635c3fd284"
   },
   "outputs": [
    {
     "name": "stdout",
     "output_type": "stream",
     "text": [
      "0\n",
      "[0, 1, 2]\n",
      "[0, 2, 4, 6, 8]\n",
      "[0, 1, 2, 3, 4, 5, 6, 7, 8, 9]\n",
      "[3, 4, 5, 6, 7, 8, 9]\n",
      "[3, 5, 7, 9]\n",
      "[0, 3, 6]\n",
      "9\n",
      "[9, 8, 7, 6, 5, 4, 3, 2, 1, 0]\n",
      "[9, 7, 5, 3, 1]\n"
     ]
    }
   ],
   "source": [
    "lista = list(range(10))\n",
    "# indici (C-like)\n",
    "print(lista[0])\n",
    "# stride\n",
    "print(lista[0:3])\n",
    "print(lista[0:len(lista):2]) # lista[inizio:fine:passo]\n",
    "print(lista[:])\n",
    "print(lista[3:])\n",
    "print(lista[3::2])\n",
    "print(lista[:8:3])\n",
    "\n",
    "# indici 'inverso'\n",
    "print(lista[-1])\n",
    "print(lista[-1::-1])\n",
    "print(lista[-1::-2])"
   ]
  },
  {
   "cell_type": "markdown",
   "id": "d394de0e-461c-442c-85f8-b8389c7a6160",
   "metadata": {
    "id": "d394de0e-461c-442c-85f8-b8389c7a6160"
   },
   "source": [
    "### Funzioni utili\n",
    "Python ha sia funzioni *built-in* che si applicazione alle liste, sia metodi dell'oggetto `list`. Tuttavia (qusi tutte) queste sono funzioni che si applicano a tutti gli **iterabili**"
   ]
  },
  {
   "cell_type": "code",
   "execution_count": 53,
   "id": "3910e5fc-9f34-4e32-adf4-fd9221d15e56",
   "metadata": {
    "colab": {
     "base_uri": "https://localhost:8080/"
    },
    "id": "3910e5fc-9f34-4e32-adf4-fd9221d15e56",
    "outputId": "85d8d5df-7b31-4eae-80dc-653723182751"
   },
   "outputs": [
    {
     "name": "stdout",
     "output_type": "stream",
     "text": [
      "Lunghezze di [1.0, 0.0, 10.0, -0.5] è 4\n",
      "[10.0, 1.0, 0.0, -0.5]\n",
      "True\n"
     ]
    }
   ],
   "source": [
    "lista = [1.0, 0.0, 10.0 ,-5.0e-1]\n",
    "# lunghezza\n",
    "n = len(lista)\n",
    "print(f'Lunghezze di {lista} è {n}')\n",
    "bontà = \"Bontà\"\n",
    "\n",
    "# ordinamento\n",
    "ordinata = sorted(lista, reverse=True)\n",
    "print(ordinata)\n",
    "\n",
    "# all e any\n",
    "print(all([1,1,1]))"
   ]
  },
  {
   "cell_type": "code",
   "execution_count": 57,
   "id": "5547f0ee-2f67-4889-9910-86fc9cb4ad48",
   "metadata": {
    "colab": {
     "base_uri": "https://localhost:8080/"
    },
    "id": "5547f0ee-2f67-4889-9910-86fc9cb4ad48",
    "outputId": "c0af46c8-7313-4178-ea1d-657b09278ac2"
   },
   "outputs": [
    {
     "name": "stdout",
     "output_type": "stream",
     "text": [
      "[1, 2, [3, 4]]\n"
     ]
    }
   ],
   "source": [
    "# append\n",
    "a = [1, 2]\n",
    "b = [3, 4]\n",
    "a.append(b)\n",
    "print(a) # Ooops!"
   ]
  },
  {
   "cell_type": "markdown",
   "id": "1447e706-03f0-472d-91fc-019c38c03889",
   "metadata": {
    "id": "1447e706-03f0-472d-91fc-019c38c03889"
   },
   "source": [
    "Si possono eliminare elementi da una lista usando `del`"
   ]
  },
  {
   "cell_type": "code",
   "execution_count": 58,
   "id": "723661bd-57ce-45a3-8c1e-0517a3c884d6",
   "metadata": {
    "colab": {
     "base_uri": "https://localhost:8080/"
    },
    "id": "723661bd-57ce-45a3-8c1e-0517a3c884d6",
    "outputId": "508cf8be-5b8c-44cf-9a8a-7cc4d76567d3"
   },
   "outputs": [
    {
     "name": "stdout",
     "output_type": "stream",
     "text": [
      "[1, 3, 5, 7, 9]\n",
      "[1, 5, 7, 9]\n"
     ]
    }
   ],
   "source": [
    "a = list(range(1,10,2))\n",
    "print(a)\n",
    "del a[1]\n",
    "print(a)"
   ]
  },
  {
   "cell_type": "markdown",
   "id": "15c0ee89-3b32-4b49-a848-166f65dda8f6",
   "metadata": {
    "id": "15c0ee89-3b32-4b49-a848-166f65dda8f6"
   },
   "source": [
    "### Operatore `*`\n",
    "Quando applicato alle stringhe l'operatore *moltiplicazione* crea cope della lista"
   ]
  },
  {
   "cell_type": "code",
   "execution_count": 60,
   "id": "af2e2b51-5824-42e4-b500-8d29c48b13fe",
   "metadata": {
    "colab": {
     "base_uri": "https://localhost:8080/"
    },
    "id": "af2e2b51-5824-42e4-b500-8d29c48b13fe",
    "outputId": "ba94e13c-f3de-4271-afab-c3296f464d03"
   },
   "outputs": [
    {
     "name": "stdout",
     "output_type": "stream",
     "text": [
      "[1, 1, 1]\n",
      "[1, 2, 1, 2, 1, 2, 1, 2]\n"
     ]
    }
   ],
   "source": [
    "print([1]*3)\n",
    "print([1,2]*4)"
   ]
  },
  {
   "cell_type": "markdown",
   "id": "126bdf24-cf83-443b-835f-a687366cbd66",
   "metadata": {
    "id": "126bdf24-cf83-443b-835f-a687366cbd66"
   },
   "source": [
    "## Tuple\n",
    "Le **tuple** sono elementi separati da virgola, sono simili alle lista, **ma sono immutabili** (no `append`, no `del`)"
   ]
  },
  {
   "cell_type": "code",
   "execution_count": 64,
   "id": "3d6a3271-fd48-49cf-ae36-d26c353f7f54",
   "metadata": {
    "colab": {
     "base_uri": "https://localhost:8080/"
    },
    "id": "3d6a3271-fd48-49cf-ae36-d26c353f7f54",
    "outputId": "1eacce4d-7e82-460a-fd48-927537e6ac19"
   },
   "outputs": [
    {
     "name": "stdout",
     "output_type": "stream",
     "text": [
      "(1, 'stringa')\n",
      "(1, 'stringa')\n"
     ]
    }
   ],
   "source": [
    "# esempio\n",
    "tupla = (1, \"stringa\")\n",
    "print(tupla)\n",
    "# anche le tuple permettono l'uso dello 'stride'\n",
    "print(tupla[:])"
   ]
  },
  {
   "cell_type": "markdown",
   "id": "3df02378-79a6-4b61-b64b-747a8eb9acb6",
   "metadata": {
    "id": "3df02378-79a6-4b61-b64b-747a8eb9acb6"
   },
   "source": [
    "### La funzione `zip`\n",
    "Tra le tante funzioni Python molto utili, c'è la funzione `zip` che crea un \"merge\" intelligente di diversi iterabili. In pratica, si prende ogni elemento di ogni iterabile con indici corrispondenti e si crea una tupla corrispondente, queste tuple vengono messe in un *iterabile*."
   ]
  },
  {
   "cell_type": "code",
   "execution_count": 65,
   "id": "8c8d1060-119e-439b-8280-a6bc3fdcda6f",
   "metadata": {
    "colab": {
     "base_uri": "https://localhost:8080/"
    },
    "id": "8c8d1060-119e-439b-8280-a6bc3fdcda6f",
    "outputId": "1694649c-53e6-4b6a-9785-cf33d315b274"
   },
   "outputs": [
    {
     "name": "stdout",
     "output_type": "stream",
     "text": [
      "('A', 1, '*')\n",
      "('B', 2, '-')\n",
      "('C', 3, '+')\n"
     ]
    }
   ],
   "source": [
    "s = [\"A\", \"B\", \"C\"]\n",
    "n = [1, 2, 3]\n",
    "p = [\"*\", \"-\", \"+\"]\n",
    "for item in zip(s,n,p):\n",
    "    print(item)"
   ]
  },
  {
   "cell_type": "markdown",
   "id": "a7bc8ad6-937a-4f48-ab62-880eb5c71b07",
   "metadata": {
    "id": "a7bc8ad6-937a-4f48-ab62-880eb5c71b07"
   },
   "source": [
    "**Argomento avanzato** La funzione \"inversa\" di `zip` si può ottenere con l'operatore `*` e `zip`"
   ]
  },
  {
   "cell_type": "code",
   "execution_count": 67,
   "id": "c53d861d-a201-44f8-9366-c3f581e82cd8",
   "metadata": {
    "colab": {
     "base_uri": "https://localhost:8080/"
    },
    "id": "c53d861d-a201-44f8-9366-c3f581e82cd8",
    "outputId": "3352b5f9-7e47-417d-f9b7-daea73d37587"
   },
   "outputs": [
    {
     "name": "stdout",
     "output_type": "stream",
     "text": [
      "[(1, 4), (2, 5), (3, 6)]\n",
      "(1, 2, 3)\n",
      "(4, 5, 6)\n"
     ]
    }
   ],
   "source": [
    "x = [1, 2, 3]\n",
    "y = [4, 5, 6]\n",
    "print(list(zip(x, y)))\n",
    "x2, y2 = zip(*zip(x, y))\n",
    "print(x2)\n",
    "print(y2)"
   ]
  },
  {
   "cell_type": "markdown",
   "id": "656da6b3-ddd9-4800-bc9c-d6179d98bf0d",
   "metadata": {
    "id": "656da6b3-ddd9-4800-bc9c-d6179d98bf0d"
   },
   "source": [
    "## Dizionari"
   ]
  },
  {
   "cell_type": "code",
   "execution_count": 68,
   "id": "2fed5191-df69-419b-9c6b-053f6055cec6",
   "metadata": {
    "colab": {
     "base_uri": "https://localhost:8080/"
    },
    "id": "2fed5191-df69-419b-9c6b-053f6055cec6",
    "outputId": "5fc7b7b7-7958-4227-d393-e9f766cba39b"
   },
   "outputs": [
    {
     "name": "stdout",
     "output_type": "stream",
     "text": [
      "1\n",
      "Key A, Val 1\n",
      "Key B, Val 2\n",
      "\n",
      "Key A, Val 1\n",
      "Key B, Val 2\n"
     ]
    }
   ],
   "source": [
    "# Sintassi\n",
    "d = {\n",
    "    \"A\": 1,\n",
    "    \"B\": 2,\n",
    "}\n",
    "\n",
    "\n",
    "# Looping \n",
    "for k in d:\n",
    "    print(f\"Key {k}, Val {d[k]}\")\n",
    "print()\n",
    "# Looping v. 2\n",
    "for k, v in d.items():\n",
    "    print(f\"Key {k}, Val {v}\")"
   ]
  },
  {
   "cell_type": "code",
   "execution_count": null,
   "id": "07446f78-d7ab-4ad7-b70f-d0ec10a7632d",
   "metadata": {
    "id": "07446f78-d7ab-4ad7-b70f-d0ec10a7632d"
   },
   "outputs": [],
   "source": []
  },
  {
   "cell_type": "markdown",
   "id": "474dd530-9e83-4f6b-beff-e61a3fbe58d6",
   "metadata": {
    "id": "474dd530-9e83-4f6b-beff-e61a3fbe58d6"
   },
   "source": [
    "## Set\n",
    "Sequenza di elementi univoci (non duplicati)"
   ]
  },
  {
   "cell_type": "code",
   "execution_count": 70,
   "id": "TOwwRdGIyB4p",
   "metadata": {
    "colab": {
     "base_uri": "https://localhost:8080/"
    },
    "id": "TOwwRdGIyB4p",
    "outputId": "31d5aa66-cc67-4c8c-da7b-e5caa57afd96"
   },
   "outputs": [
    {
     "name": "stdout",
     "output_type": "stream",
     "text": [
      "{'orange', 'apple', 'pear', 'banana'}\n"
     ]
    }
   ],
   "source": [
    "basket = {'apple', 'orange', 'apple', 'pear', 'orange', 'banana'}\n",
    "print(basket)"
   ]
  },
  {
   "cell_type": "markdown",
   "id": "AQ6wP-dm_v3G",
   "metadata": {
    "id": "AQ6wP-dm_v3G"
   },
   "source": [
    "## Utili conversioni"
   ]
  },
  {
   "cell_type": "code",
   "execution_count": 109,
   "id": "kOhfwBBIyRQG",
   "metadata": {
    "colab": {
     "base_uri": "https://localhost:8080/"
    },
    "id": "kOhfwBBIyRQG",
    "outputId": "71c6e58f-3396-4f2b-ff31-db70213b9e02"
   },
   "outputs": [
    {
     "name": "stdout",
     "output_type": "stream",
     "text": [
      "['apple', 'orange', 'apple', 'pear', 'orange', 'banana']\n",
      "apple,orange,apple,pear,orange,banana\n",
      "apple\n",
      "apple\n",
      "banana\n",
      "orange\n",
      "orange\n",
      "pear\n",
      "['apple', 'orange', 'apple', 'pear', 'orange', 'banana']\n"
     ]
    }
   ],
   "source": [
    "# creare una stringa con gli elenenti di una lista\n",
    "frutti = ['apple', 'orange', 'apple', 'pear', 'orange', 'banana']\n",
    "print(frutti)\n",
    "print(\",\".join(frutti))\n",
    "print(\"\\n\".join(sorted(frutti)))\n",
    "# dividere gli elementi di una stringa e metterli su una lista\n",
    "stringa = \"apple,orange,apple,pear,orange,banana\"\n",
    "print(stringa.split(\",\"))"
   ]
  },
  {
   "cell_type": "markdown",
   "id": "CCZduMRD_uR0",
   "metadata": {
    "id": "CCZduMRD_uR0"
   },
   "source": [
    "## Utilizzo di file"
   ]
  },
  {
   "cell_type": "code",
   "execution_count": 76,
   "id": "uU4DXOwNy1KE",
   "metadata": {
    "colab": {
     "base_uri": "https://localhost:8080/"
    },
    "id": "uU4DXOwNy1KE",
    "outputId": "6e7c5226-80b1-442b-be4b-0b00618f182d"
   },
   "outputs": [
    {
     "name": "stdout",
     "output_type": "stream",
     "text": [
      "49\n",
      "['[', '{\"Series\":\"I\", \"X\":10.0, \"Y\":8.04},', '{\"Series\":\"I\", \"X\":8.0, \"Y\":6.95},', '{\"Series\":\"I\", \"X\":13.0, \"Y\":7.58},', '{\"Series\":\"I\", \"X\":9.0, \"Y\":8.81},', '{\"Series\":\"I\", \"X\":11.0, \"Y\":8.33},', '{\"Series\":\"I\", \"X\":14.0, \"Y\":9.96},', '{\"Series\":\"I\", \"X\":6.0, \"Y\":7.24},', '{\"Series\":\"I\", \"X\":4.0, \"Y\":4.26},', '{\"Series\":\"I\", \"X\":12.0, \"Y\":10.84},', '{\"Series\":\"I\", \"X\":7.0, \"Y\":4.81},', '{\"Series\":\"I\", \"X\":5.0, \"Y\":5.68},', '', '{\"Series\":\"II\", \"X\":10.0, \"Y\":9.14},', '{\"Series\":\"II\", \"X\":8.0, \"Y\":8.14},', '{\"Series\":\"II\", \"X\":13.0, \"Y\":8.74},', '{\"Series\":\"II\", \"X\":9.0, \"Y\":8.77},', '{\"Series\":\"II\", \"X\":11.0, \"Y\":9.26},', '{\"Series\":\"II\", \"X\":14.0, \"Y\":8.10},', '{\"Series\":\"II\", \"X\":6.0, \"Y\":6.13},', '{\"Series\":\"II\", \"X\":4.0, \"Y\":3.10},', '{\"Series\":\"II\", \"X\":12.0, \"Y\":9.13},', '{\"Series\":\"II\", \"X\":7.0, \"Y\":7.26},', '{\"Series\":\"II\", \"X\":5.0, \"Y\":4.74},', '', '{\"Series\":\"III\", \"X\":10.0, \"Y\":7.46},', '{\"Series\":\"III\", \"X\":8.0, \"Y\":6.77},', '{\"Series\":\"III\", \"X\":13.0, \"Y\":12.74},', '{\"Series\":\"III\", \"X\":9.0, \"Y\":7.11},', '{\"Series\":\"III\", \"X\":11.0, \"Y\":7.81},', '{\"Series\":\"III\", \"X\":14.0, \"Y\":8.84},', '{\"Series\":\"III\", \"X\":6.0, \"Y\":6.08},', '{\"Series\":\"III\", \"X\":4.0, \"Y\":5.39},', '{\"Series\":\"III\", \"X\":12.0, \"Y\":8.15},', '{\"Series\":\"III\", \"X\":7.0, \"Y\":6.42},', '{\"Series\":\"III\", \"X\":5.0, \"Y\":5.73},', '', '{\"Series\":\"IV\", \"X\":8.0, \"Y\":6.58},', '{\"Series\":\"IV\", \"X\":8.0, \"Y\":5.76},', '{\"Series\":\"IV\", \"X\":8.0, \"Y\":7.71},', '{\"Series\":\"IV\", \"X\":8.0, \"Y\":8.84},', '{\"Series\":\"IV\", \"X\":8.0, \"Y\":8.47},', '{\"Series\":\"IV\", \"X\":8.0, \"Y\":7.04},', '{\"Series\":\"IV\", \"X\":8.0, \"Y\":5.25},', '{\"Series\":\"IV\", \"X\":19.0, \"Y\":12.50},', '{\"Series\":\"IV\", \"X\":8.0, \"Y\":5.56},', '{\"Series\":\"IV\", \"X\":8.0, \"Y\":7.91},', '{\"Series\":\"IV\", \"X\":8.0, \"Y\":6.89}', ']']\n"
     ]
    }
   ],
   "source": [
    "file_desc = open(\"/content/sample_data/anscombe.json\")\n",
    "righe = []\n",
    "for riga in file_desc:\n",
    "    righe.append(riga.strip()) # strip elimina spazi vuoti, tab, caporiga, ... all'inizio e alla fine della stringa\n",
    "file_desc.close()\n",
    "print(len(righe))\n",
    "print(righe)"
   ]
  },
  {
   "cell_type": "markdown",
   "id": "aa04d70a-6122-4f6c-b069-be26493efcee",
   "metadata": {
    "id": "aa04d70a-6122-4f6c-b069-be26493efcee"
   },
   "source": [
    "## Array con `numpy`\n",
    "\n",
    "L'utilizzo di `numpy` merita un discorso a parte perché rappresenta un approcio maggiormente \"vetoriale\"."
   ]
  },
  {
   "cell_type": "code",
   "execution_count": 79,
   "id": "a1d71c9a-f143-4626-a771-fa48437479e1",
   "metadata": {
    "id": "a1d71c9a-f143-4626-a771-fa48437479e1"
   },
   "outputs": [],
   "source": [
    "import numpy as np\n",
    "n = np.arange(1,10)\n",
    "x = np.linspace(0,1,101)"
   ]
  },
  {
   "cell_type": "code",
   "execution_count": 108,
   "id": "BgFdcvzX2kRI",
   "metadata": {
    "colab": {
     "base_uri": "https://localhost:8080/",
     "height": 317
    },
    "id": "BgFdcvzX2kRI",
    "outputId": "258178c8-9e9a-49b0-c6cf-4b425b3f0267"
   },
   "outputs": [
    {
     "name": "stderr",
     "output_type": "stream",
     "text": [
      "/usr/local/lib/python3.7/dist-packages/ipykernel_launcher.py:2: RuntimeWarning: divide by zero encountered in log\n",
      "  \n"
     ]
    },
    {
     "data": {
      "text/plain": [
       "[<matplotlib.lines.Line2D at 0x7f94a8809690>]"
      ]
     },
     "execution_count": 108,
     "metadata": {},
     "output_type": "execute_result"
    },
    {
     "data": {
      "image/png": "[encoded data removed]",
      "text/plain": [
       "<Figure size 432x288 with 1 Axes>"
      ]
     },
     "metadata": {
      "needs_background": "light"
     },
     "output_type": "display_data"
    }
   ],
   "source": [
    "import matplotlib.pyplot as plt\n",
    "plt.plot(x, np.log(x), 'x-')"
   ]
  },
  {
   "cell_type": "markdown",
   "id": "ed09e429-50aa-4d83-b8d7-5daec6053b66",
   "metadata": {
    "id": "ed09e429-50aa-4d83-b8d7-5daec6053b66"
   },
   "source": [
    "## Operazioni vettoriali"
   ]
  },
  {
   "cell_type": "code",
   "execution_count": 94,
   "id": "ca405e3f-55a1-430c-95b6-7b5200f38d38",
   "metadata": {
    "colab": {
     "base_uri": "https://localhost:8080/"
    },
    "id": "ca405e3f-55a1-430c-95b6-7b5200f38d38",
    "outputId": "d560e4ea-fbf0-47a7-a43c-1f6ecdea0c90"
   },
   "outputs": [
    {
     "name": "stdout",
     "output_type": "stream",
     "text": [
      "[ 2  4  6  8 10 12 14 16 18]\n",
      "[-1 -2 -3 -4 -5 -6 -7 -8 -9]\n",
      "[ 1  4  9 16 25 36 49 64 81]\n"
     ]
    },
    {
     "data": {
      "text/plain": [
       "285"
      ]
     },
     "execution_count": 94,
     "metadata": {},
     "output_type": "execute_result"
    }
   ],
   "source": [
    "# somma\n",
    "print(n+n)\n",
    "print(n*-1)\n",
    "# prodotto\n",
    "print(n*n)\n",
    "\n",
    "# funzioni\n",
    "np.matmul(n,n)"
   ]
  },
  {
   "cell_type": "markdown",
   "id": "c8c8d194-1ada-480e-b5a7-11a29a345ed9",
   "metadata": {
    "id": "c8c8d194-1ada-480e-b5a7-11a29a345ed9"
   },
   "source": [
    "### Il tipo `ndarray`\n",
    "Allora che di che tipo sono questi oggetti?"
   ]
  },
  {
   "cell_type": "code",
   "execution_count": null,
   "id": "43f4a49a-cae3-41a3-97af-e1e59b9dc13e",
   "metadata": {
    "id": "43f4a49a-cae3-41a3-97af-e1e59b9dc13e"
   },
   "outputs": [],
   "source": [
    "print(type(a))\n",
    "print(type(x))"
   ]
  },
  {
   "cell_type": "markdown",
   "id": "76f2b461-6b04-414e-a1d2-6d211e1ebc34",
   "metadata": {
    "id": "76f2b461-6b04-414e-a1d2-6d211e1ebc34"
   },
   "source": [
    "Un `ndarray` è un tipo di **array multidimensionale**, non c'è purtroppo modo di andare a fondo, ma è importante sottolineare che **la quasi totalità degli algoritmi è compilato quindi estremamente efficiente** (cosa di solito non vera per funzioni Python interpretati)."
   ]
  },
  {
   "cell_type": "code",
   "execution_count": 96,
   "id": "63b5bc6f-2566-403e-ba7c-ecaa6607cf35",
   "metadata": {
    "colab": {
     "base_uri": "https://localhost:8080/"
    },
    "id": "63b5bc6f-2566-403e-ba7c-ecaa6607cf35",
    "outputId": "8841e62f-9a43-4f70-aaec-5e5f83c8deaf"
   },
   "outputs": [
    {
     "name": "stdout",
     "output_type": "stream",
     "text": [
      "(2, 3)\n",
      "[[0.  0.2 0.4]\n",
      " [0.6 0.8 1. ]]\n"
     ]
    }
   ],
   "source": [
    "v = np.ndarray(shape=[2,3], dtype=float)\n",
    "print(v.shape)\n",
    "print(v)"
   ]
  },
  {
   "cell_type": "code",
   "execution_count": 100,
   "id": "IZ_pWTWH4lc0",
   "metadata": {
    "colab": {
     "base_uri": "https://localhost:8080/"
    },
    "id": "IZ_pWTWH4lc0",
    "outputId": "a99091a4-d9fa-4d70-a324-aae303f187a6"
   },
   "outputs": [
    {
     "name": "stdout",
     "output_type": "stream",
     "text": [
      "[[1. 0. 0. 0. 0.]\n",
      " [0. 1. 0. 0. 0.]\n",
      " [0. 0. 1. 0. 0.]\n",
      " [0. 0. 0. 1. 0.]\n",
      " [0. 0. 0. 0. 1.]]\n",
      "[[1. 1. 1. 1. 1.]\n",
      " [1. 1. 1. 1. 1.]\n",
      " [1. 1. 1. 1. 1.]\n",
      " [1. 1. 1. 1. 1.]\n",
      " [1. 1. 1. 1. 1.]]\n"
     ]
    }
   ],
   "source": [
    "identità = np.eye(5)\n",
    "print(identità)\n",
    "print(np.ones_like(identità)) # tutti 1 con la stessa forma di identità"
   ]
  },
  {
   "cell_type": "code",
   "execution_count": 97,
   "id": "58f53734-b67a-444e-9655-22b789a3e32b",
   "metadata": {
    "id": "58f53734-b67a-444e-9655-22b789a3e32b"
   },
   "outputs": [],
   "source": [
    "d3 = np.ndarray(shape=[4,4,4], dtype=float)"
   ]
  },
  {
   "cell_type": "code",
   "execution_count": 101,
   "id": "4d83fe30-680b-4534-ac4b-1fe2cb970c86",
   "metadata": {
    "id": "4d83fe30-680b-4534-ac4b-1fe2cb970c86"
   },
   "outputs": [],
   "source": [
    "A = np.asarray([[1,2,3],[4,5,6],[7,8,9]])"
   ]
  },
  {
   "cell_type": "code",
   "execution_count": 102,
   "id": "e9b52c4f-d5f0-43ab-9cb1-a61dbeb155f7",
   "metadata": {
    "colab": {
     "base_uri": "https://localhost:8080/"
    },
    "id": "e9b52c4f-d5f0-43ab-9cb1-a61dbeb155f7",
    "outputId": "468aa20a-2f8c-44c4-9465-f46514a23d57"
   },
   "outputs": [
    {
     "name": "stdout",
     "output_type": "stream",
     "text": [
      "A ->  [[1 2 3]\n",
      " [4 5 6]\n",
      " [7 8 9]]\n",
      "\n",
      "diag(A) ->  [1 5 9]\n",
      "\n",
      "A^T ->  [[1 4 7]\n",
      " [2 5 8]\n",
      " [3 6 9]]\n"
     ]
    }
   ],
   "source": [
    "print(\"A -> \", A)\n",
    "print()\n",
    "print(\"diag(A) -> \", A.diagonal())\n",
    "print()\n",
    "print(\"A^T -> \", A.transpose())"
   ]
  },
  {
   "cell_type": "code",
   "execution_count": 103,
   "id": "aaf76fa3-f08c-424c-8050-cca44e769b9f",
   "metadata": {
    "colab": {
     "base_uri": "https://localhost:8080/"
    },
    "id": "aaf76fa3-f08c-424c-8050-cca44e769b9f",
    "outputId": "cc5739e7-5722-4156-ddc5-2501bea52664"
   },
   "outputs": [
    {
     "data": {
      "text/plain": [
       "array([[ 1,  4,  9],\n",
       "       [16, 25, 36],\n",
       "       [49, 64, 81]])"
      ]
     },
     "execution_count": 103,
     "metadata": {},
     "output_type": "execute_result"
    }
   ],
   "source": [
    "A*A # ??"
   ]
  },
  {
   "cell_type": "code",
   "execution_count": 104,
   "id": "2cc2facd-100c-40a7-8b5a-804b04f6fcc4",
   "metadata": {
    "colab": {
     "base_uri": "https://localhost:8080/"
    },
    "id": "2cc2facd-100c-40a7-8b5a-804b04f6fcc4",
    "outputId": "bada9067-ce25-4ff4-9cf4-d6527ba247d7"
   },
   "outputs": [
    {
     "data": {
      "text/plain": [
       "array([[ 30,  36,  42],\n",
       "       [ 66,  81,  96],\n",
       "       [102, 126, 150]])"
      ]
     },
     "execution_count": 104,
     "metadata": {},
     "output_type": "execute_result"
    }
   ],
   "source": [
    "np.matmul(A,A)"
   ]
  },
  {
   "cell_type": "markdown",
   "id": "e5acc2f4-adb8-4e6d-9d1b-684e12d4b811",
   "metadata": {
    "id": "e5acc2f4-adb8-4e6d-9d1b-684e12d4b811"
   },
   "source": [
    "# Riferimenti\n",
    "* [Strutture dati Python][1]\n",
    "* [Funzioni *built-in* Python][2]\n",
    "* [ndarray][3]\n",
    "\n",
    "[1]: https://docs.python.org/3/tutorial/datastructures.html\n",
    "[2]: https://docs.python.org/3/library/functions.html\n",
    "[3]: https://numpy.org/doc/stable/reference/generated/numpy.ndarray.html"
   ]
  }
 ],
 "metadata": {
  "colab": {
   "collapsed_sections": [],
   "name": "SdI.02 - Strutture Dati.ipynb",
   "provenance": []
  },
  "kernelspec": {
   "display_name": "Python 3 (ipykernel)",
   "language": "python",
   "name": "python3"
  },
  "language_info": {
   "codemirror_mode": {
    "name": "ipython",
    "version": 3
   },
   "file_extension": ".py",
   "mimetype": "text/x-python",
   "name": "python",
   "nbconvert_exporter": "python",
   "pygments_lexer": "ipython3",
   "version": "3.10.1"
  }
 },
 "nbformat": 4,
 "nbformat_minor": 5
}
