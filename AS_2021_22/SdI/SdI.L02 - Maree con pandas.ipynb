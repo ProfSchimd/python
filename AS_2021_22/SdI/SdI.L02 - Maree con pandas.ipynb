{
 "cells": [
  {
   "cell_type": "markdown",
   "id": "86799770-428d-4040-ad62-abfe12e28726",
   "metadata": {},
   "source": [
    "# Ancora maree"
   ]
  },
  {
   "cell_type": "markdown",
   "id": "cdb13b3c-b5df-401c-8a11-6f35bbe633ee",
   "metadata": {},
   "source": [
    "## Esercizio 1: Esplorazione dati"
   ]
  },
  {
   "cell_type": "code",
   "execution_count": null,
   "id": "ae48a7c9-a4f0-4493-8a7d-145e08b857f1",
   "metadata": {},
   "outputs": [],
   "source": [
    "import requests\n",
    "\n",
    "# marea ogni 5 minuti (ordinata dal 1 gennaio al 31 dicembre del 2021)\n",
    "api_url = \"https://dati.venezia.it/sites/default/files/dataset/opendata/as2021min.json\"\n",
    "response = requests.get(api_url)\n",
    "dati = response.json()"
   ]
  },
  {
   "cell_type": "code",
   "execution_count": null,
   "id": "57e68176-5957-47d2-abb8-831c761ac16e",
   "metadata": {
    "tags": []
   },
   "outputs": [],
   "source": [
    "# importate tutto quello che serve\n"
   ]
  },
  {
   "cell_type": "code",
   "execution_count": null,
   "id": "4c6df677-abbc-486f-9bca-586e424e0fcf",
   "metadata": {},
   "outputs": [],
   "source": [
    "# Istruzioni 'bonus' che vi metto io: convertono JSON in \n",
    "\n",
    "# crea un DataFrame da un JSON ed usa la colonna \"data\" come indice\n",
    "df = pd.DataFrame(data=dati).set_index(\"data\")\n",
    "# Converte la colonna \"valore\" in intero (ricordate che è una stringa) e poi sovrascrive con la conversione\n",
    "df[\"valore\"] = df[\"valore\"].astype(int)"
   ]
  },
  {
   "cell_type": "markdown",
   "id": "15cb1096-201c-4fb6-bb86-9ce2b3cefcbc",
   "metadata": {},
   "source": [
    "Vediamo un po' di informazioni statistiche generale"
   ]
  },
  {
   "cell_type": "code",
   "execution_count": null,
   "id": "42c8e286-85f2-483f-a866-54675b885cae",
   "metadata": {},
   "outputs": [],
   "source": [
    "# Media, Deviazione standard, Min Max,\n"
   ]
  },
  {
   "cell_type": "markdown",
   "id": "bca99882-eb81-41c0-80b1-3e13cae24bd3",
   "metadata": {},
   "source": [
    "Magari qualche grafico (si può anche riproporre quello del laboratorio precedente)"
   ]
  },
  {
   "cell_type": "code",
   "execution_count": null,
   "id": "84633de3-713c-4552-8e96-e5cc5eb7ae61",
   "metadata": {},
   "outputs": [],
   "source": []
  },
  {
   "cell_type": "markdown",
   "id": "7ff3e502-3f23-41d1-98e0-5480f32999fb",
   "metadata": {},
   "source": [
    "## Esercizio 2: Ma nel 2021 c'è stato una crescita della marea media?"
   ]
  },
  {
   "cell_type": "markdown",
   "id": "5f7274d3-adfa-4251-b9c7-3b51abb00110",
   "metadata": {},
   "source": [
    "La domanda sorge spontanea, il livello medio della marea è cresciuto da inizio a fine 2021? Per farlo si può vedere la media giornaliera (o settiminale, dipende da cosa vien meglio) e cercare di capire se durante l'anno c'è un costante andamento crescente o meno."
   ]
  },
  {
   "cell_type": "code",
   "execution_count": null,
   "id": "00514eb9-f12e-4b7e-bb8a-c744be565ca9",
   "metadata": {},
   "outputs": [],
   "source": [
    "# Creare la 'media mobile' con rolling\n",
    "finestra_media = 12*24 # finestra di un giorno (12 misurazioni all'ora per 24 ore)\n",
    "media_mobile = df.rolling(finestra_media).mean()"
   ]
  },
  {
   "cell_type": "code",
   "execution_count": null,
   "id": "1c6273bd-1945-4404-bc15-369c829e5868",
   "metadata": {},
   "outputs": [],
   "source": []
  },
  {
   "cell_type": "markdown",
   "id": "b1d000d8-60e8-4a67-8a63-19fa38ace683",
   "metadata": {},
   "source": [
    "Ma questo è vero solo nel 2019, provate anche con altri anni"
   ]
  },
  {
   "cell_type": "code",
   "execution_count": null,
   "id": "f442a7ab-6305-4cec-9d34-03e6384bb5db",
   "metadata": {},
   "outputs": [],
   "source": []
  },
  {
   "cell_type": "markdown",
   "id": "70b32670-a23a-4a6b-8fbe-652b4b9e22a3",
   "metadata": {},
   "source": [
    "## Esercizio 3 (difficile): Confronto 2019, 2020, 2021\n",
    "Se metto uno dopo l'altro gli anni 2019, 2020 e 2021, come si comporta la marea media? Riusciamo a capire se Venezia rischia veramente di essere sommersa? Quanti anni ci vorranno?\n",
    "\n",
    "Questo esercizio usa 3 dataset: dal 2019 al 2021, per recuperarli bisogna usare tre chiamate alle API `dati.venezia.it` (cioè scaricare tre `JSON` distinti). Consiglio di creare 3 `DataFrame` diversi (uno per ogni anno) e poi crearne un quarto prendendo le colonne dei valori\n",
    "\n",
    "**Attenzione** però che\n",
    "\n",
    "* Gli indici saranno diversi in quanto l'indice è la data (es il 01-01-2019 è diverso dal 01-01-2020)\n",
    "* C'è un anno bisestile (2020) con un giorno in più (in generale non bisognerebbe mai fidarsi che i dati siano omogenei, in questo casi stesso numero di righe)\n",
    "\n",
    "**Per i più temerari** c'è la sfida di allineare giorno con giorno. `pandas` ha un ottimo supporto alle *serie temporali*, ma dovete guardarvi bene la documentazione a [questo indirizzo](https://pandas.pydata.org/docs/user_guide/timeseries.html) (in inglese...)."
   ]
  },
  {
   "cell_type": "code",
   "execution_count": null,
   "id": "18c27535-38bd-45c0-8a3b-d5c2bfa7fa2e",
   "metadata": {},
   "outputs": [],
   "source": []
  }
 ],
 "metadata": {
  "kernelspec": {
   "display_name": "Python 3 (ipykernel)",
   "language": "python",
   "name": "python3"
  },
  "language_info": {
   "codemirror_mode": {
    "name": "ipython",
    "version": 3
   },
   "file_extension": ".py",
   "mimetype": "text/x-python",
   "name": "python",
   "nbconvert_exporter": "python",
   "pygments_lexer": "ipython3",
   "version": "3.10.1"
  }
 },
 "nbformat": 4,
 "nbformat_minor": 5
}
