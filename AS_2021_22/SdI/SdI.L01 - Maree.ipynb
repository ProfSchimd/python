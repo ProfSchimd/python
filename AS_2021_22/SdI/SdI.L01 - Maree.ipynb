{
 "cells": [
  {
   "cell_type": "markdown",
   "id": "4a030b5d-fc51-4fff-a32f-6d7b967442f5",
   "metadata": {},
   "source": [
    "## App maree (meno divertente)\n",
    "Riprendendo l'idea sull'App maree, vediamo come recuperare e processare il file `json`."
   ]
  },
  {
   "cell_type": "code",
   "execution_count": 2,
   "id": "c195de01-58d6-45a2-a5da-47bfe41cf4b3",
   "metadata": {},
   "outputs": [
    {
     "name": "stdout",
     "output_type": "stream",
     "text": [
      "<class 'list'>\n",
      "<class 'dict'>\n"
     ]
    }
   ],
   "source": [
    "import requests\n",
    "\n",
    "api_url = 'http://dati.venezia.it/sites/default/files/dataset/opendata/livello.json'\n",
    "response = requests.get(api_url)\n",
    "dati = response.json()\n",
    "print(type(dati))\n",
    "print(type(dati[0]))\n"
   ]
  },
  {
   "cell_type": "markdown",
   "id": "b347a8af-bc37-480a-a287-033fb0b457d2",
   "metadata": {},
   "source": [
    "## Esercizio 1\n",
    "Stampare la lista dei punti di rilievo della marea"
   ]
  },
  {
   "cell_type": "code",
   "execution_count": null,
   "id": "9f13b767-d08d-4a6b-b0f6-51a2ad9f1b6a",
   "metadata": {},
   "outputs": [],
   "source": []
  },
  {
   "cell_type": "markdown",
   "id": "f29dc4ed-00f7-4676-87c7-8e43a23dfadf",
   "metadata": {},
   "source": [
    "## Esercizio 2\n",
    "Fare la media del valore rilevato"
   ]
  },
  {
   "cell_type": "code",
   "execution_count": null,
   "id": "9b055b04-a850-4bf8-b958-ef4605291a84",
   "metadata": {},
   "outputs": [],
   "source": []
  },
  {
   "cell_type": "markdown",
   "id": "691e5611-da3a-43ae-acbf-cf14a3fb53ae",
   "metadata": {},
   "source": [
    "# Storico marea"
   ]
  },
  {
   "cell_type": "code",
   "execution_count": 34,
   "id": "b4fc7150-9003-4d85-9474-522bc66ddf65",
   "metadata": {},
   "outputs": [],
   "source": [
    "import requests\n",
    "\n",
    "# marea ogni 5 minuti (ordinata dal 1 gennaio al 31 dicembre del 2019)\n",
    "api_url = 'https://dati.venezia.it/sites/default/files/dataset/opendata/as2021min.json'\n",
    "response = requests.get(api_url)\n",
    "dati = response.json()"
   ]
  },
  {
   "cell_type": "markdown",
   "id": "41cef0cd-153b-421a-83c0-91578ac913ed",
   "metadata": {},
   "source": [
    "## Esercizio\n",
    "Mostrare l'andamento della marea come nel grafico sotto usando la funzione `plot` di `matplotlib.pyplot`\n",
    "\n",
    "**Attenzione** siccome i dati sono troppi, mostriamo solo una finestra di poche misurazioni. Qui sotto si vedono i primi 4 giorni del 2021 (12 misurazioni all'ora per 24 ore per 4 giorni: 1152 misurazioni)"
   ]
  },
  {
   "cell_type": "code",
   "execution_count": 88,
   "id": "f2cfd5b9-c039-4425-bd5e-aa426c329c0a",
   "metadata": {},
   "outputs": [
    {
     "data": {
      "text/plain": [
       "[<matplotlib.lines.Line2D at 0xffff4174e620>]"
      ]
     },
     "execution_count": 88,
     "metadata": {},
     "output_type": "execute_result"
    },
    {
     "data": {
      "image/png": "[encoded data removed]",
      "text/plain": [
       "<Figure size 432x288 with 1 Axes>"
      ]
     },
     "metadata": {
      "needs_background": "light"
     },
     "output_type": "display_data"
    }
   ],
   "source": []
  },
  {
   "cell_type": "markdown",
   "id": "b3a33742-b583-44eb-8e02-29b95501f0bb",
   "metadata": {},
   "source": [
    "### Soluzione"
   ]
  },
  {
   "cell_type": "code",
   "execution_count": 31,
   "id": "6cb8f6f6-1c01-4a7c-8265-384f54d83d89",
   "metadata": {},
   "outputs": [],
   "source": [
    "import numpy as np\n",
    "import matplotlib.pyplot as plt"
   ]
  },
  {
   "cell_type": "markdown",
   "id": "1b737ab7-7d1c-45a3-8e8c-1e9cdd58bae0",
   "metadata": {},
   "source": [
    "# Riferimenti\n",
    "\n",
    "* [Dati Venezia][1]\n",
    "\n",
    "[1]: https://dati.venezia.it/?q=content/cpsm-dati-meteomarini-laguna-e-litorale-veneziano"
   ]
  }
 ],
 "metadata": {
  "kernelspec": {
   "display_name": "Python 3 (ipykernel)",
   "language": "python",
   "name": "python3"
  },
  "language_info": {
   "codemirror_mode": {
    "name": "ipython",
    "version": 3
   },
   "file_extension": ".py",
   "mimetype": "text/x-python",
   "name": "python",
   "nbconvert_exporter": "python",
   "pygments_lexer": "ipython3",
   "version": "3.10.1"
  }
 },
 "nbformat": 4,
 "nbformat_minor": 5
}
