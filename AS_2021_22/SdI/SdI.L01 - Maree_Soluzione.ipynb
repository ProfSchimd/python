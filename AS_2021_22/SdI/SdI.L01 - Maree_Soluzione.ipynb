{
  "cells": [
    {
      "cell_type": "markdown",
      "id": "4a030b5d-fc51-4fff-a32f-6d7b967442f5",
      "metadata": {
        "id": "4a030b5d-fc51-4fff-a32f-6d7b967442f5"
      },
      "source": [
        "## App maree (meno divertente)\n",
        "Riprendendo l'idea sull'App maree, vediamo come recuperare e processare il file `json`."
      ]
    },
    {
      "cell_type": "code",
      "execution_count": null,
      "id": "c195de01-58d6-45a2-a5da-47bfe41cf4b3",
      "metadata": {
        "id": "c195de01-58d6-45a2-a5da-47bfe41cf4b3",
        "outputId": "ab2ebb9e-959d-4de9-97f9-dcddf713c511"
      },
      "outputs": [
        {
          "name": "stdout",
          "output_type": "stream",
          "text": [
            "<class 'list'>\n",
            "<class 'dict'>\n"
          ]
        }
      ],
      "source": [
        "import requests\n",
        "\n",
        "api_url = 'http://dati.venezia.it/sites/default/files/dataset/opendata/livello.json'\n",
        "response = requests.get(api_url)\n",
        "dati = response.json()\n",
        "print(type(dati))\n",
        "print(type(dati[0]))\n"
      ]
    },
    {
      "cell_type": "markdown",
      "id": "b347a8af-bc37-480a-a287-033fb0b457d2",
      "metadata": {
        "id": "b347a8af-bc37-480a-a287-033fb0b457d2"
      },
      "source": [
        "## Esercizio 1\n",
        "Stampare la lista dei punti di rilievo della marea"
      ]
    },
    {
      "cell_type": "code",
      "execution_count": null,
      "id": "9f13b767-d08d-4a6b-b0f6-51a2ad9f1b6a",
      "metadata": {
        "id": "9f13b767-d08d-4a6b-b0f6-51a2ad9f1b6a"
      },
      "outputs": [],
      "source": [
        ""
      ]
    },
    {
      "cell_type": "markdown",
      "id": "f29dc4ed-00f7-4676-87c7-8e43a23dfadf",
      "metadata": {
        "id": "f29dc4ed-00f7-4676-87c7-8e43a23dfadf"
      },
      "source": [
        "## Esercizio 2\n",
        "Fare la media del valore rilevato"
      ]
    },
    {
      "cell_type": "code",
      "execution_count": null,
      "id": "9b055b04-a850-4bf8-b958-ef4605291a84",
      "metadata": {
        "id": "9b055b04-a850-4bf8-b958-ef4605291a84"
      },
      "outputs": [],
      "source": [
        ""
      ]
    },
    {
      "cell_type": "markdown",
      "id": "691e5611-da3a-43ae-acbf-cf14a3fb53ae",
      "metadata": {
        "id": "691e5611-da3a-43ae-acbf-cf14a3fb53ae"
      },
      "source": [
        "# Storico marea"
      ]
    },
    {
      "cell_type": "code",
      "execution_count": null,
      "id": "b4fc7150-9003-4d85-9474-522bc66ddf65",
      "metadata": {
        "id": "b4fc7150-9003-4d85-9474-522bc66ddf65"
      },
      "outputs": [],
      "source": [
        "import requests\n",
        "\n",
        "# marea ogni 5 minuti (ordinata dal 1 gennaio al 31 dicembre del 2019)\n",
        "api_url = 'https://dati.venezia.it/sites/default/files/dataset/opendata/as2021min.json'\n",
        "response = requests.get(api_url)\n",
        "dati = response.json()"
      ]
    },
    {
      "cell_type": "code",
      "source": [
        "import numpy as np"
      ],
      "metadata": {
        "id": "KLy-k6iNZTHu"
      },
      "id": "KLy-k6iNZTHu",
      "execution_count": null,
      "outputs": []
    },
    {
      "cell_type": "code",
      "source": [
        "y = []\n",
        "for i in range(len(dati)):\n",
        "    y.append(int(dati[i][\"valore\"]))"
      ],
      "metadata": {
        "id": "nM9HeZHcYrQQ"
      },
      "id": "nM9HeZHcYrQQ",
      "execution_count": null,
      "outputs": []
    },
    {
      "cell_type": "code",
      "source": [
        "print(len(y))\n",
        "print(y[0])\n",
        "print(type(y[0]))"
      ],
      "metadata": {
        "id": "aADKlxLEZlCr",
        "outputId": "e6b6151a-4121-4b04-f263-ea3ccafaa1be",
        "colab": {
          "base_uri": "https://localhost:8080/"
        }
      },
      "id": "aADKlxLEZlCr",
      "execution_count": null,
      "outputs": [
        {
          "output_type": "stream",
          "name": "stdout",
          "text": [
            "1152\n",
            "59\n",
            "<class 'int'>\n"
          ]
        }
      ]
    },
    {
      "cell_type": "code",
      "source": [
        "y = [int(dati[i][\"valore\"]) for i in range(len(dati))]"
      ],
      "metadata": {
        "id": "GFSF8Ip0aHer"
      },
      "id": "GFSF8Ip0aHer",
      "execution_count": null,
      "outputs": []
    },
    {
      "cell_type": "markdown",
      "id": "41cef0cd-153b-421a-83c0-91578ac913ed",
      "metadata": {
        "id": "41cef0cd-153b-421a-83c0-91578ac913ed"
      },
      "source": [
        "## Esercizio\n",
        "Mostrare l'andamento della marea come nel grafico sotto usando la funzione `plot` di `matplotlib.pyplot`\n",
        "\n",
        "**Attenzione** siccome i dati sono troppi, mostriamo solo una finestra di poche misurazioni. Qui sotto si vedono i primi 4 giorni del 2021 (12 misurazioni all'ora per 24 ore per 4 giorni: 1152 misurazioni)"
      ]
    },
    {
      "cell_type": "code",
      "execution_count": null,
      "id": "f2cfd5b9-c039-4425-bd5e-aa426c329c0a",
      "metadata": {
        "id": "f2cfd5b9-c039-4425-bd5e-aa426c329c0a",
        "outputId": "c2f8b5d8-6732-4ae8-d73d-b16a74a5500f"
      },
      "outputs": [
        {
          "data": {
            "text/plain": [
              "[<matplotlib.lines.Line2D at 0xffff4174e620>]"
            ]
          },
          "execution_count": 88,
          "metadata": {},
          "output_type": "execute_result"
        },
        {
          "data": {
            "image/png": "[encoded data removed]",
            "text/plain": [
              "<Figure size 432x288 with 1 Axes>"
            ]
          },
          "metadata": {
            "needs_background": "light"
          },
          "output_type": "display_data"
        }
      ],
      "source": [
        ""
      ]
    },
    {
      "cell_type": "markdown",
      "id": "b3a33742-b583-44eb-8e02-29b95501f0bb",
      "metadata": {
        "id": "b3a33742-b583-44eb-8e02-29b95501f0bb"
      },
      "source": [
        "### Soluzione"
      ]
    },
    {
      "cell_type": "code",
      "execution_count": null,
      "id": "6cb8f6f6-1c01-4a7c-8265-384f54d83d89",
      "metadata": {
        "id": "6cb8f6f6-1c01-4a7c-8265-384f54d83d89",
        "outputId": "620812b2-0fd5-4d5d-c9e3-695d6fff04e2",
        "colab": {
          "base_uri": "https://localhost:8080/",
          "height": 282
        }
      },
      "outputs": [
        {
          "output_type": "execute_result",
          "data": {
            "text/plain": [
              "[<matplotlib.lines.Line2D at 0x7fa75a3e2a50>]"
            ]
          },
          "metadata": {},
          "execution_count": 20
        },
        {
          "output_type": "display_data",
          "data": {
            "text/plain": [
              "<Figure size 432x288 with 1 Axes>"
            ],
            "image/png": "[encoded data removed]"
          },
          "metadata": {
            "needs_background": "light"
          }
        }
      ],
      "source": [
        "import numpy as np\n",
        "import matplotlib.pyplot as plt\n",
        "\n",
        "plt.plot(y[1152:2*1152], '.')"
      ]
    },
    {
      "cell_type": "code",
      "source": [
        "plt.plot([int(dati[i][\"valore\"]) for i in range(len(dati))][:1152b], '.')"
      ],
      "metadata": {
        "id": "9tKLB4u4bFq9",
        "outputId": "428504ab-ff9d-4512-ac0f-c75b128e0e7b",
        "colab": {
          "base_uri": "https://localhost:8080/",
          "height": 282
        }
      },
      "id": "9tKLB4u4bFq9",
      "execution_count": null,
      "outputs": [
        {
          "output_type": "execute_result",
          "data": {
            "text/plain": [
              "[<matplotlib.lines.Line2D at 0x7fa75a3c67d0>]"
            ]
          },
          "metadata": {},
          "execution_count": 21
        },
        {
          "output_type": "display_data",
          "data": {
            "text/plain": [
              "<Figure size 432x288 with 1 Axes>"
            ],
            "image/png": "[encoded data removed]"
          },
          "metadata": {
            "needs_background": "light"
          }
        }
      ]
    },
    {
      "cell_type": "code",
      "source": [
        "array = np.asarray([int(dati[i][\"valore\"]) for i in range(len(dati))])\n",
        "type(array)\n",
        "print(array[0:1152].mean())\n",
        "array.std()\n",
        "array.max()\n",
        "dati[array.argmax()][\"data\"]"
      ],
      "metadata": {
        "id": "ilAEE0OpbPeU",
        "outputId": "69a13e23-6663-4226-9598-dac20b252b43",
        "colab": {
          "base_uri": "https://localhost:8080/",
          "height": 53
        }
      },
      "id": "ilAEE0OpbPeU",
      "execution_count": null,
      "outputs": [
        {
          "output_type": "stream",
          "name": "stdout",
          "text": [
            "31.608506944444443\n"
          ]
        },
        {
          "output_type": "execute_result",
          "data": {
            "text/plain": [
              "'2021-04-26 21:50:00'"
            ],
            "application/vnd.google.colaboratory.intrinsic+json": {
              "type": "string"
            }
          },
          "metadata": {},
          "execution_count": 29
        }
      ]
    },
    {
      "cell_type": "code",
      "source": [
        "import numpy as np\n",
        "import matplotlib.pyplot as plt\n",
        "import pandas as pd\n",
        "import seaborn as sns\n",
        "sns.set()"
      ],
      "metadata": {
        "id": "-QMYJM4mb8rG"
      },
      "id": "-QMYJM4mb8rG",
      "execution_count": null,
      "outputs": []
    },
    {
      "cell_type": "code",
      "source": [
        "df = pd.DataFrame(data=dati)\n",
        "df[\"valore\"] = df[\"valore\"].astype(int)\n",
        "df.iloc[:1152].plot()"
      ],
      "metadata": {
        "id": "14GvpVdGcG6T",
        "outputId": "0d16d3ac-efd0-4f91-e1cc-a96dd2834b1a",
        "colab": {
          "base_uri": "https://localhost:8080/",
          "height": 285
        }
      },
      "id": "14GvpVdGcG6T",
      "execution_count": null,
      "outputs": [
        {
          "output_type": "execute_result",
          "data": {
            "text/plain": [
              "<matplotlib.axes._subplots.AxesSubplot at 0x7fa74b11a150>"
            ]
          },
          "metadata": {},
          "execution_count": 35
        },
        {
          "output_type": "display_data",
          "data": {
            "text/plain": [
              "<Figure size 432x288 with 1 Axes>"
            ],
            "image/png": "[encoded data removed]"
          },
          "metadata": {}
        }
      ]
    },
    {
      "cell_type": "code",
      "source": [
        "df.describe()"
      ],
      "metadata": {
        "id": "Wbxq3ilTcgZ7",
        "outputId": "a6498f23-3971-4f28-8d9e-4378fccae0e4",
        "colab": {
          "base_uri": "https://localhost:8080/",
          "height": 300
        }
      },
      "id": "Wbxq3ilTcgZ7",
      "execution_count": null,
      "outputs": [
        {
          "output_type": "execute_result",
          "data": {
            "text/plain": [
              "              valore\n",
              "count  105120.000000\n",
              "mean       31.771433\n",
              "std        24.199309\n",
              "min       -33.000000\n",
              "25%        15.000000\n",
              "50%        33.000000\n",
              "75%        50.000000\n",
              "max        87.000000"
            ],
            "text/html": [
              "\n",
              "  <div id=\"df-ad879699-c177-4c36-b2d7-29f8bf591019\">\n",
              "    <div class=\"colab-df-container\">\n",
              "      <div>\n",
              "<style scoped>\n",
              "    .dataframe tbody tr th:only-of-type {\n",
              "        vertical-align: middle;\n",
              "    }\n",
              "\n",
              "    .dataframe tbody tr th {\n",
              "        vertical-align: top;\n",
              "    }\n",
              "\n",
              "    .dataframe thead th {\n",
              "        text-align: right;\n",
              "    }\n",
              "</style>\n",
              "<table border=\"1\" class=\"dataframe\">\n",
              "  <thead>\n",
              "    <tr style=\"text-align: right;\">\n",
              "      <th></th>\n",
              "      <th>valore</th>\n",
              "    </tr>\n",
              "  </thead>\n",
              "  <tbody>\n",
              "    <tr>\n",
              "      <th>count</th>\n",
              "      <td>105120.000000</td>\n",
              "    </tr>\n",
              "    <tr>\n",
              "      <th>mean</th>\n",
              "      <td>31.771433</td>\n",
              "    </tr>\n",
              "    <tr>\n",
              "      <th>std</th>\n",
              "      <td>24.199309</td>\n",
              "    </tr>\n",
              "    <tr>\n",
              "      <th>min</th>\n",
              "      <td>-33.000000</td>\n",
              "    </tr>\n",
              "    <tr>\n",
              "      <th>25%</th>\n",
              "      <td>15.000000</td>\n",
              "    </tr>\n",
              "    <tr>\n",
              "      <th>50%</th>\n",
              "      <td>33.000000</td>\n",
              "    </tr>\n",
              "    <tr>\n",
              "      <th>75%</th>\n",
              "      <td>50.000000</td>\n",
              "    </tr>\n",
              "    <tr>\n",
              "      <th>max</th>\n",
              "      <td>87.000000</td>\n",
              "    </tr>\n",
              "  </tbody>\n",
              "</table>\n",
              "</div>\n",
              "      <button class=\"colab-df-convert\" onclick=\"convertToInteractive('df-ad879699-c177-4c36-b2d7-29f8bf591019')\"\n",
              "              title=\"Convert this dataframe to an interactive table.\"\n",
              "              style=\"display:none;\">\n",
              "        \n",
              "  <svg xmlns=\"http://www.w3.org/2000/svg\" height=\"24px\"viewBox=\"0 0 24 24\"\n",
              "       width=\"24px\">\n",
              "    <path d=\"M0 0h24v24H0V0z\" fill=\"none\"/>\n",
              "    <path d=\"M18.56 5.44l.94 2.06.94-2.06 2.06-.94-2.06-.94-.94-2.06-.94 2.06-2.06.94zm-11 1L8.5 8.5l.94-2.06 2.06-.94-2.06-.94L8.5 2.5l-.94 2.06-2.06.94zm10 10l.94 2.06.94-2.06 2.06-.94-2.06-.94-.94-2.06-.94 2.06-2.06.94z\"/><path d=\"M17.41 7.96l-1.37-1.37c-.4-.4-.92-.59-1.43-.59-.52 0-1.04.2-1.43.59L10.3 9.45l-7.72 7.72c-.78.78-.78 2.05 0 2.83L4 21.41c.39.39.9.59 1.41.59.51 0 1.02-.2 1.41-.59l7.78-7.78 2.81-2.81c.8-.78.8-2.07 0-2.86zM5.41 20L4 18.59l7.72-7.72 1.47 1.35L5.41 20z\"/>\n",
              "  </svg>\n",
              "      </button>\n",
              "      \n",
              "  <style>\n",
              "    .colab-df-container {\n",
              "      display:flex;\n",
              "      flex-wrap:wrap;\n",
              "      gap: 12px;\n",
              "    }\n",
              "\n",
              "    .colab-df-convert {\n",
              "      background-color: #E8F0FE;\n",
              "      border: none;\n",
              "      border-radius: 50%;\n",
              "      cursor: pointer;\n",
              "      display: none;\n",
              "      fill: #1967D2;\n",
              "      height: 32px;\n",
              "      padding: 0 0 0 0;\n",
              "      width: 32px;\n",
              "    }\n",
              "\n",
              "    .colab-df-convert:hover {\n",
              "      background-color: #E2EBFA;\n",
              "      box-shadow: 0px 1px 2px rgba(60, 64, 67, 0.3), 0px 1px 3px 1px rgba(60, 64, 67, 0.15);\n",
              "      fill: #174EA6;\n",
              "    }\n",
              "\n",
              "    [theme=dark] .colab-df-convert {\n",
              "      background-color: #3B4455;\n",
              "      fill: #D2E3FC;\n",
              "    }\n",
              "\n",
              "    [theme=dark] .colab-df-convert:hover {\n",
              "      background-color: #434B5C;\n",
              "      box-shadow: 0px 1px 3px 1px rgba(0, 0, 0, 0.15);\n",
              "      filter: drop-shadow(0px 1px 2px rgba(0, 0, 0, 0.3));\n",
              "      fill: #FFFFFF;\n",
              "    }\n",
              "  </style>\n",
              "\n",
              "      <script>\n",
              "        const buttonEl =\n",
              "          document.querySelector('#df-ad879699-c177-4c36-b2d7-29f8bf591019 button.colab-df-convert');\n",
              "        buttonEl.style.display =\n",
              "          google.colab.kernel.accessAllowed ? 'block' : 'none';\n",
              "\n",
              "        async function convertToInteractive(key) {\n",
              "          const element = document.querySelector('#df-ad879699-c177-4c36-b2d7-29f8bf591019');\n",
              "          const dataTable =\n",
              "            await google.colab.kernel.invokeFunction('convertToInteractive',\n",
              "                                                     [key], {});\n",
              "          if (!dataTable) return;\n",
              "\n",
              "          const docLinkHtml = 'Like what you see? Visit the ' +\n",
              "            '<a target=\"_blank\" href=https://colab.research.google.com/notebooks/data_table.ipynb>data table notebook</a>'\n",
              "            + ' to learn more about interactive tables.';\n",
              "          element.innerHTML = '';\n",
              "          dataTable['output_type'] = 'display_data';\n",
              "          await google.colab.output.renderOutput(dataTable, element);\n",
              "          const docLink = document.createElement('div');\n",
              "          docLink.innerHTML = docLinkHtml;\n",
              "          element.appendChild(docLink);\n",
              "        }\n",
              "      </script>\n",
              "    </div>\n",
              "  </div>\n",
              "  "
            ]
          },
          "metadata": {},
          "execution_count": 37
        }
      ]
    },
    {
      "cell_type": "markdown",
      "id": "1b737ab7-7d1c-45a3-8e8c-1e9cdd58bae0",
      "metadata": {
        "id": "1b737ab7-7d1c-45a3-8e8c-1e9cdd58bae0"
      },
      "source": [
        "# Riferimenti\n",
        "\n",
        "* [Dati Venezia][1]\n",
        "\n",
        "[1]: https://dati.venezia.it/?q=content/cpsm-dati-meteomarini-laguna-e-litorale-veneziano"
      ]
    },
    {
      "cell_type": "code",
      "source": [
        ""
      ],
      "metadata": {
        "id": "AM-iJgMibORm"
      },
      "id": "AM-iJgMibORm",
      "execution_count": null,
      "outputs": []
    }
  ],
  "metadata": {
    "kernelspec": {
      "display_name": "Python 3 (ipykernel)",
      "language": "python",
      "name": "python3"
    },
    "language_info": {
      "codemirror_mode": {
        "name": "ipython",
        "version": 3
      },
      "file_extension": ".py",
      "mimetype": "text/x-python",
      "name": "python",
      "nbconvert_exporter": "python",
      "pygments_lexer": "ipython3",
      "version": "3.10.1"
    },
    "colab": {
      "name": "SdI.L01 - Maree (Soluzione).ipynb",
      "provenance": []
    }
  },
  "nbformat": 4,
  "nbformat_minor": 5
}